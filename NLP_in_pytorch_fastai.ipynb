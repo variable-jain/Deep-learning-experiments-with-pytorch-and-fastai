{
  "nbformat": 4,
  "nbformat_minor": 0,
  "metadata": {
    "colab": {
      "name": "NLP in pytorch-fastai.ipynb",
      "provenance": [],
      "collapsed_sections": [
        "vTqCWfnwgsjg",
        "n3BoIG_Xgx9I",
        "-kNdmqHJkLTc",
        "2dJpxUhPlysD"
      ],
      "authorship_tag": "ABX9TyNy8O8b3Kq/1BcOntYyz22d",
      "include_colab_link": true
    },
    "kernelspec": {
      "name": "python3",
      "display_name": "Python 3"
    },
    "accelerator": "GPU"
  },
  "cells": [
    {
      "cell_type": "markdown",
      "metadata": {
        "id": "view-in-github",
        "colab_type": "text"
      },
      "source": [
        "<a href=\"https://colab.research.google.com/github/variable-jain/Deep-learning-experiments-with-pytorch-and-fastai/blob/main/NLP_in_pytorch_fastai.ipynb\" target=\"_parent\"><img src=\"https://colab.research.google.com/assets/colab-badge.svg\" alt=\"Open In Colab\"/></a>"
      ]
    },
    {
      "cell_type": "code",
      "metadata": {
        "id": "wfiIgw79gb9X"
      },
      "source": [
        "from google.colab import drive\n",
        "drive.mount('/content/drive')"
      ],
      "execution_count": null,
      "outputs": []
    },
    {
      "cell_type": "code",
      "metadata": {
        "id": "5Xr1rlpBgdwi"
      },
      "source": [
        "!pip install -Uqq fastbook\r\n",
        "import fastbook\r\n",
        "fastbook.setup_book()"
      ],
      "execution_count": null,
      "outputs": []
    },
    {
      "cell_type": "code",
      "metadata": {
        "id": "wblNF-h7gm2H"
      },
      "source": [
        "from fastbook import *\r\n",
        "from IPython.display import display,HTML"
      ],
      "execution_count": 3,
      "outputs": []
    },
    {
      "cell_type": "markdown",
      "metadata": {
        "id": "iVu3Zu6kgIJ0"
      },
      "source": [
        "# NLP in fastai"
      ]
    },
    {
      "cell_type": "code",
      "metadata": {
        "id": "-3KaAtLeg7AS"
      },
      "source": [
        "from fastai.text.all import *"
      ],
      "execution_count": 4,
      "outputs": []
    },
    {
      "cell_type": "markdown",
      "metadata": {
        "id": "vTqCWfnwgsjg"
      },
      "source": [
        "## Text Preprocessing"
      ]
    },
    {
      "cell_type": "markdown",
      "metadata": {
        "id": "n3BoIG_Xgx9I"
      },
      "source": [
        "### Text Tokenization"
      ]
    },
    {
      "cell_type": "markdown",
      "metadata": {
        "id": "P_sCQ0TBg2Od"
      },
      "source": [
        "> Word Tokenization"
      ]
    },
    {
      "cell_type": "code",
      "metadata": {
        "colab": {
          "base_uri": "https://localhost:8080/",
          "height": 17
        },
        "id": "piQg9gUOgE-g",
        "outputId": "39cfe190-39e8-462a-d632-b6f4f6cfd211"
      },
      "source": [
        "path = untar_data(URLs.IMDB)"
      ],
      "execution_count": 5,
      "outputs": [
        {
          "output_type": "display_data",
          "data": {
            "text/html": [
              ""
            ],
            "text/plain": [
              "<IPython.core.display.HTML object>"
            ]
          },
          "metadata": {
            "tags": []
          }
        }
      ]
    },
    {
      "cell_type": "code",
      "metadata": {
        "id": "qHPL_Rx9hEcF"
      },
      "source": [
        "files = get_text_files(path, folders=['train', 'test', 'unsup'])"
      ],
      "execution_count": 6,
      "outputs": []
    },
    {
      "cell_type": "code",
      "metadata": {
        "colab": {
          "base_uri": "https://localhost:8080/",
          "height": 35
        },
        "id": "tFuKSmcShefN",
        "outputId": "572d9a1f-a6e7-4912-9358-5090c1355b28"
      },
      "source": [
        "txt = files[0].open().read()\r\n",
        "txt[:75]"
      ],
      "execution_count": 7,
      "outputs": [
        {
          "output_type": "execute_result",
          "data": {
            "application/vnd.google.colaboratory.intrinsic+json": {
              "type": "string"
            },
            "text/plain": [
              "'Once again, ITV force upon us another hash and unwanted remake of a perfect'"
            ]
          },
          "metadata": {
            "tags": []
          },
          "execution_count": 7
        }
      ]
    },
    {
      "cell_type": "markdown",
      "metadata": {
        "id": "reAmKHp3hzuw"
      },
      "source": [
        "There are two ways to create a Tokenizer:\r\n",
        "* Using *WordTokenizer* class and use __spacy__ Tokenizer\r\n",
        "* Wrap the above tokenizer in fastai's *Tokenizer* class and exploit some additional functionalities"
      ]
    },
    {
      "cell_type": "code",
      "metadata": {
        "colab": {
          "base_uri": "https://localhost:8080/"
        },
        "id": "ulzMK03phoOr",
        "outputId": "7a42c1be-100d-458b-8ab0-ed8bf5d5d984"
      },
      "source": [
        "spacy = WordTokenizer()\r\n",
        "toks = first(spacy([txt]))\r\n",
        "print(coll_repr(toks, 30))"
      ],
      "execution_count": 8,
      "outputs": [
        {
          "output_type": "stream",
          "text": [
            "(#778) ['Once','again',',','ITV','force','upon','us','another','hash','and','unwanted','remake','of','a','perfectly','good','predecessor','.','This','episode','may','possibly','be','worse','than','the','previous',',','The','Body'...]\n"
          ],
          "name": "stdout"
        }
      ]
    },
    {
      "cell_type": "code",
      "metadata": {
        "colab": {
          "base_uri": "https://localhost:8080/"
        },
        "id": "lhZBSwiMihwH",
        "outputId": "9259d71f-2e0e-4e4b-d783-db18f5cc2d0e"
      },
      "source": [
        "tkn = Tokenizer(spacy)\r\n",
        "print(coll_repr(tkn(txt), 31))"
      ],
      "execution_count": 9,
      "outputs": [
        {
          "output_type": "stream",
          "text": [
            "(#846) ['xxbos','xxmaj','once','again',',','xxup','itv','force','upon','us','another','hash','and','unwanted','remake','of','a','perfectly','good','predecessor','.','xxmaj','this','episode','may','possibly','be','worse','than','the','previous'...]\n"
          ],
          "name": "stdout"
        }
      ]
    },
    {
      "cell_type": "markdown",
      "metadata": {
        "id": "USDjh3dujFT6"
      },
      "source": [
        "> Subword Tokenization"
      ]
    },
    {
      "cell_type": "code",
      "metadata": {
        "id": "OiXQZHsdjAmw"
      },
      "source": [
        "txts = L(o.open().read() for o in files[:2000])"
      ],
      "execution_count": 11,
      "outputs": []
    },
    {
      "cell_type": "code",
      "metadata": {
        "id": "-NOFOoaKjTrp"
      },
      "source": [
        "def subword(sz):\r\n",
        "    sp = SubwordTokenizer(vocab_sz=sz)\r\n",
        "    sp.setup(txts)\r\n",
        "    return ' '.join(first(sp([txt]))[:40])"
      ],
      "execution_count": 15,
      "outputs": []
    },
    {
      "cell_type": "code",
      "metadata": {
        "colab": {
          "base_uri": "https://localhost:8080/",
          "height": 52
        },
        "id": "FtlijV07jwCR",
        "outputId": "d6e12971-722b-48f7-bd41-066844e7237b"
      },
      "source": [
        "subword(1000)"
      ],
      "execution_count": 16,
      "outputs": [
        {
          "output_type": "display_data",
          "data": {
            "text/html": [
              ""
            ],
            "text/plain": [
              "<IPython.core.display.HTML object>"
            ]
          },
          "metadata": {
            "tags": []
          }
        },
        {
          "output_type": "execute_result",
          "data": {
            "application/vnd.google.colaboratory.intrinsic+json": {
              "type": "string"
            },
            "text/plain": [
              "'▁O n ce ▁again , ▁I T V ▁for ce ▁up on ▁us ▁another ▁has h ▁and ▁un w ant ed ▁re m ake ▁of ▁a ▁perfect ly ▁good ▁pre de ce s s or . ▁This ▁episode ▁may ▁po'"
            ]
          },
          "metadata": {
            "tags": []
          },
          "execution_count": 16
        }
      ]
    },
    {
      "cell_type": "code",
      "metadata": {
        "colab": {
          "base_uri": "https://localhost:8080/",
          "height": 35
        },
        "id": "09beqNedjyM4",
        "outputId": "e1c139f2-5833-4a23-d139-427091c0b242"
      },
      "source": [
        "subword(200)"
      ],
      "execution_count": 17,
      "outputs": [
        {
          "output_type": "display_data",
          "data": {
            "text/html": [
              ""
            ],
            "text/plain": [
              "<IPython.core.display.HTML object>"
            ]
          },
          "metadata": {
            "tags": []
          }
        },
        {
          "output_type": "execute_result",
          "data": {
            "application/vnd.google.colaboratory.intrinsic+json": {
              "type": "string"
            },
            "text/plain": [
              "'▁ O n ce ▁a g a in , ▁I T V ▁for ce ▁ u p on ▁ us ▁ an o th er ▁h a s h ▁and ▁ un w an t ed ▁re m a k'"
            ]
          },
          "metadata": {
            "tags": []
          },
          "execution_count": 17
        }
      ]
    },
    {
      "cell_type": "markdown",
      "metadata": {
        "id": "-kNdmqHJkLTc"
      },
      "source": [
        "### Numericalization"
      ]
    },
    {
      "cell_type": "code",
      "metadata": {
        "colab": {
          "base_uri": "https://localhost:8080/"
        },
        "id": "FLmAULTGkGGQ",
        "outputId": "ff0640dc-a627-487f-fe92-757684f5bd79"
      },
      "source": [
        "toks = tkn(txt)\r\n",
        "print(coll_repr(toks,31))"
      ],
      "execution_count": 19,
      "outputs": [
        {
          "output_type": "stream",
          "text": [
            "(#846) ['xxbos','xxmaj','once','again',',','xxup','itv','force','upon','us','another','hash','and','unwanted','remake','of','a','perfectly','good','predecessor','.','xxmaj','this','episode','may','possibly','be','worse','than','the','previous'...]\n"
          ],
          "name": "stdout"
        }
      ]
    },
    {
      "cell_type": "code",
      "metadata": {
        "colab": {
          "base_uri": "https://localhost:8080/"
        },
        "id": "V6_Er6xMkZwF",
        "outputId": "1805d018-a967-4a99-f3ea-3e7379417259"
      },
      "source": [
        "toks200 = txts[:200].map(tkn)\r\n",
        "toks200[0]"
      ],
      "execution_count": 20,
      "outputs": [
        {
          "output_type": "execute_result",
          "data": {
            "text/plain": [
              "(#846) ['xxbos','xxmaj','once','again',',','xxup','itv','force','upon','us'...]"
            ]
          },
          "metadata": {
            "tags": []
          },
          "execution_count": 20
        }
      ]
    },
    {
      "cell_type": "code",
      "metadata": {
        "colab": {
          "base_uri": "https://localhost:8080/",
          "height": 35
        },
        "id": "uNvkvqtRkjmd",
        "outputId": "ad7283c3-9eb2-46d6-972b-fe0749893d66"
      },
      "source": [
        "num = Numericalize()\r\n",
        "num.setup(toks200)\r\n",
        "coll_repr(num.vocab,20)"
      ],
      "execution_count": 22,
      "outputs": [
        {
          "output_type": "execute_result",
          "data": {
            "application/vnd.google.colaboratory.intrinsic+json": {
              "type": "string"
            },
            "text/plain": [
              "\"(#2024) ['xxunk','xxpad','xxbos','xxeos','xxfld','xxrep','xxwrep','xxup','xxmaj','the','.',',','a','and','of','to','is','in','it','i'...]\""
            ]
          },
          "metadata": {
            "tags": []
          },
          "execution_count": 22
        }
      ]
    },
    {
      "cell_type": "code",
      "metadata": {
        "colab": {
          "base_uri": "https://localhost:8080/"
        },
        "id": "MUCDPRGJks2C",
        "outputId": "fcd590d5-2320-4335-8f16-221600515883"
      },
      "source": [
        "nums = num(toks)[:20]\r\n",
        "nums"
      ],
      "execution_count": 26,
      "outputs": [
        {
          "output_type": "execute_result",
          "data": {
            "text/plain": [
              "TensorText([  2,   8, 268, 174,  11,   7,   0, 647, 962, 175, 193,   0,  13,   0, 963,  14,  12, 723,  65,   0])"
            ]
          },
          "metadata": {
            "tags": []
          },
          "execution_count": 26
        }
      ]
    },
    {
      "cell_type": "code",
      "metadata": {
        "colab": {
          "base_uri": "https://localhost:8080/",
          "height": 35
        },
        "id": "RMqZJWnIk6NG",
        "outputId": "2ba440b4-0a26-4929-d775-4c062daea6f1"
      },
      "source": [
        "' '.join(num.vocab[o] for o in nums)"
      ],
      "execution_count": 27,
      "outputs": [
        {
          "output_type": "execute_result",
          "data": {
            "application/vnd.google.colaboratory.intrinsic+json": {
              "type": "string"
            },
            "text/plain": [
              "'xxbos xxmaj once again , xxup xxunk force upon us another xxunk and xxunk remake of a perfectly good xxunk'"
            ]
          },
          "metadata": {
            "tags": []
          },
          "execution_count": 27
        }
      ]
    },
    {
      "cell_type": "markdown",
      "metadata": {
        "id": "sC7-vHTbllol"
      },
      "source": [
        "## Training a Language Model"
      ]
    },
    {
      "cell_type": "markdown",
      "metadata": {
        "id": "2dJpxUhPlysD"
      },
      "source": [
        "### Batches and DataLoaders"
      ]
    },
    {
      "cell_type": "code",
      "metadata": {
        "id": "O08Mlbxal--B"
      },
      "source": [
        "nums200 = toks200.map(num)"
      ],
      "execution_count": 28,
      "outputs": []
    },
    {
      "cell_type": "code",
      "metadata": {
        "id": "mo212GEQlJhR"
      },
      "source": [
        "dl = LMDataLoader(nums200)"
      ],
      "execution_count": 29,
      "outputs": []
    },
    {
      "cell_type": "code",
      "metadata": {
        "colab": {
          "base_uri": "https://localhost:8080/"
        },
        "id": "r4qrMDopmHUb",
        "outputId": "44d12fde-b272-4479-91d7-7e2ae7d2784e"
      },
      "source": [
        "x, y = first(dl)\r\n",
        "x.shape, y.shape"
      ],
      "execution_count": 31,
      "outputs": [
        {
          "output_type": "execute_result",
          "data": {
            "text/plain": [
              "(torch.Size([64, 72]), torch.Size([64, 72]))"
            ]
          },
          "metadata": {
            "tags": []
          },
          "execution_count": 31
        }
      ]
    },
    {
      "cell_type": "code",
      "metadata": {
        "colab": {
          "base_uri": "https://localhost:8080/",
          "height": 35
        },
        "id": "V-LA2TFOmKE5",
        "outputId": "419cbb67-d4f0-4660-9c94-ba5829385d64"
      },
      "source": [
        "' '.join(num.vocab[o] for o in x[0][:20])"
      ],
      "execution_count": 32,
      "outputs": [
        {
          "output_type": "execute_result",
          "data": {
            "application/vnd.google.colaboratory.intrinsic+json": {
              "type": "string"
            },
            "text/plain": [
              "'xxbos xxmaj once again , xxup xxunk force upon us another xxunk and xxunk remake of a perfectly good xxunk'"
            ]
          },
          "metadata": {
            "tags": []
          },
          "execution_count": 32
        }
      ]
    },
    {
      "cell_type": "code",
      "metadata": {
        "colab": {
          "base_uri": "https://localhost:8080/",
          "height": 35
        },
        "id": "1GSw1ylrmU6_",
        "outputId": "c2780f2d-0452-4a3c-b9a8-1dcb5ee68a71"
      },
      "source": [
        "' '.join(num.vocab[o] for o in y[0][:20])"
      ],
      "execution_count": 34,
      "outputs": [
        {
          "output_type": "execute_result",
          "data": {
            "application/vnd.google.colaboratory.intrinsic+json": {
              "type": "string"
            },
            "text/plain": [
              "'xxmaj once again , xxup xxunk force upon us another xxunk and xxunk remake of a perfectly good xxunk .'"
            ]
          },
          "metadata": {
            "tags": []
          },
          "execution_count": 34
        }
      ]
    },
    {
      "cell_type": "code",
      "metadata": {
        "colab": {
          "base_uri": "https://localhost:8080/",
          "height": 17
        },
        "id": "cGSnCcmWmXYY",
        "outputId": "31df60f6-b1e5-4ce6-925f-cec1ac7a8739"
      },
      "source": [
        "get_imdb = partial(get_text_files, folders=['train', 'test', 'unsup'])\r\n",
        "\r\n",
        "dls_lm = DataBlock(\r\n",
        "    blocks = TextBlock.from_folder(path, is_lm = True),\r\n",
        "    get_items = get_imdb,\r\n",
        "    splitter = RandomSplitter(0.1),\r\n",
        ").dataloaders(path, path=path, bs=128, seq_len=80)"
      ],
      "execution_count": 35,
      "outputs": [
        {
          "output_type": "display_data",
          "data": {
            "text/html": [
              ""
            ],
            "text/plain": [
              "<IPython.core.display.HTML object>"
            ]
          },
          "metadata": {
            "tags": []
          }
        }
      ]
    },
    {
      "cell_type": "code",
      "metadata": {
        "colab": {
          "base_uri": "https://localhost:8080/",
          "height": 247
        },
        "id": "u7Zpp7fAnV5D",
        "outputId": "6a92d86e-15d4-41bf-cab6-a41d76d63579"
      },
      "source": [
        "dls_lm.show_batch(max_n=2)"
      ],
      "execution_count": 36,
      "outputs": [
        {
          "output_type": "display_data",
          "data": {
            "text/html": [
              "<table border=\"1\" class=\"dataframe\">\n",
              "  <thead>\n",
              "    <tr style=\"text-align: right;\">\n",
              "      <th></th>\n",
              "      <th>text</th>\n",
              "      <th>text_</th>\n",
              "    </tr>\n",
              "  </thead>\n",
              "  <tbody>\n",
              "    <tr>\n",
              "      <th>0</th>\n",
              "      <td>xxbos xxmaj fassbinder 's most lavish production sacrifices little of his talent for identifying and deconstructing a xxunk of suffering in long , mobile takes that somehow also act as social xxunk ; here , it 's much more overt , since the story takes place in war - torn xxmaj germany at the end of xxup wwii , and the central character is a woman ( hanna xxmaj schygulla as xxmaj maria ) who capitalizes on vulnerabilities ( both</td>\n",
              "      <td>xxmaj fassbinder 's most lavish production sacrifices little of his talent for identifying and deconstructing a xxunk of suffering in long , mobile takes that somehow also act as social xxunk ; here , it 's much more overt , since the story takes place in war - torn xxmaj germany at the end of xxup wwii , and the central character is a woman ( hanna xxmaj schygulla as xxmaj maria ) who capitalizes on vulnerabilities ( both economic</td>\n",
              "    </tr>\n",
              "    <tr>\n",
              "      <th>1</th>\n",
              "      <td>magnificent , playing just right the rather confused , unlucky thirty - five year old young woman a bit given to alcohol , not overplaying her part ; xxmaj maría xxmaj galiana as her mother shows even at her age that she has come from good theatre , as no less does xxmaj carlos xxunk - novoa as the lonely neighbour . xxmaj benito xxmaj xxunk - as xxmaj almodóvar - , not only directs his film but is also</td>\n",
              "      <td>, playing just right the rather confused , unlucky thirty - five year old young woman a bit given to alcohol , not overplaying her part ; xxmaj maría xxmaj galiana as her mother shows even at her age that she has come from good theatre , as no less does xxmaj carlos xxunk - novoa as the lonely neighbour . xxmaj benito xxmaj xxunk - as xxmaj almodóvar - , not only directs his film but is also responsible</td>\n",
              "    </tr>\n",
              "  </tbody>\n",
              "</table>"
            ],
            "text/plain": [
              "<IPython.core.display.HTML object>"
            ]
          },
          "metadata": {
            "tags": []
          }
        }
      ]
    },
    {
      "cell_type": "markdown",
      "metadata": {
        "id": "EkJ2SoPbqL6j"
      },
      "source": [
        "### Fine-tuning the language model"
      ]
    },
    {
      "cell_type": "code",
      "metadata": {
        "id": "xNvr-3pVqF-L"
      },
      "source": [
        "learn = language_model_learner(dls_lm, AWD_LSTM, drop_mult=0.3, metrics=[accuracy, Perplexity()]).to_fp16()"
      ],
      "execution_count": null,
      "outputs": []
    },
    {
      "cell_type": "code",
      "metadata": {
        "colab": {
          "base_uri": "https://localhost:8080/",
          "height": 80
        },
        "id": "3K5gdwE4qmib",
        "outputId": "7545c654-3454-4eb0-a56f-3608579725a1"
      },
      "source": [
        "learn.fit_one_cycle(1, 2e-2)"
      ],
      "execution_count": 38,
      "outputs": [
        {
          "output_type": "display_data",
          "data": {
            "text/html": [
              "<table border=\"1\" class=\"dataframe\">\n",
              "  <thead>\n",
              "    <tr style=\"text-align: left;\">\n",
              "      <th>epoch</th>\n",
              "      <th>train_loss</th>\n",
              "      <th>valid_loss</th>\n",
              "      <th>accuracy</th>\n",
              "      <th>perplexity</th>\n",
              "      <th>time</th>\n",
              "    </tr>\n",
              "  </thead>\n",
              "  <tbody>\n",
              "    <tr>\n",
              "      <td>0</td>\n",
              "      <td>4.012404</td>\n",
              "      <td>3.903874</td>\n",
              "      <td>0.299967</td>\n",
              "      <td>49.594200</td>\n",
              "      <td>21:33</td>\n",
              "    </tr>\n",
              "  </tbody>\n",
              "</table>"
            ],
            "text/plain": [
              "<IPython.core.display.HTML object>"
            ]
          },
          "metadata": {
            "tags": []
          }
        }
      ]
    },
    {
      "cell_type": "code",
      "metadata": {
        "colab": {
          "base_uri": "https://localhost:8080/"
        },
        "id": "VJGkTS7Jqtlz",
        "outputId": "95284dfb-178d-4fa5-fd18-99fda5046664"
      },
      "source": [
        "learn.save(\"/content/gdrive/MyDrive/Colab Notebooks/Experiments Part1 fastai/1epoch\")"
      ],
      "execution_count": 39,
      "outputs": [
        {
          "output_type": "execute_result",
          "data": {
            "text/plain": [
              "Path('/content/gdrive/MyDrive/Colab Notebooks/Experiments Part1 fastai/1epoch.pth')"
            ]
          },
          "metadata": {
            "tags": []
          },
          "execution_count": 39
        }
      ]
    },
    {
      "cell_type": "code",
      "metadata": {
        "colab": {
          "base_uri": "https://localhost:8080/"
        },
        "id": "RvHCxS2GrzZs",
        "outputId": "d176abea-1287-49fc-af62-85a08b16c6fe"
      },
      "source": [
        "learn.load(\"/content/gdrive/MyDrive/Colab Notebooks/Experiments Part1 fastai/1epoch\")"
      ],
      "execution_count": 40,
      "outputs": [
        {
          "output_type": "execute_result",
          "data": {
            "text/plain": [
              "<fastai.text.learner.LMLearner at 0x7f75580af610>"
            ]
          },
          "metadata": {
            "tags": []
          },
          "execution_count": 40
        }
      ]
    },
    {
      "cell_type": "code",
      "metadata": {
        "colab": {
          "base_uri": "https://localhost:8080/",
          "height": 359
        },
        "id": "WCPsspTar3H2",
        "outputId": "031fad53-5a5b-4b2a-d6a3-f25b536fa11f"
      },
      "source": [
        "learn.unfreeze()\r\n",
        "learn.fit_one_cycle(10, 2e-3)"
      ],
      "execution_count": 41,
      "outputs": [
        {
          "output_type": "display_data",
          "data": {
            "text/html": [
              "<table border=\"1\" class=\"dataframe\">\n",
              "  <thead>\n",
              "    <tr style=\"text-align: left;\">\n",
              "      <th>epoch</th>\n",
              "      <th>train_loss</th>\n",
              "      <th>valid_loss</th>\n",
              "      <th>accuracy</th>\n",
              "      <th>perplexity</th>\n",
              "      <th>time</th>\n",
              "    </tr>\n",
              "  </thead>\n",
              "  <tbody>\n",
              "    <tr>\n",
              "      <td>0</td>\n",
              "      <td>3.762840</td>\n",
              "      <td>3.764196</td>\n",
              "      <td>0.316087</td>\n",
              "      <td>43.129032</td>\n",
              "      <td>23:05</td>\n",
              "    </tr>\n",
              "    <tr>\n",
              "      <td>1</td>\n",
              "      <td>3.714295</td>\n",
              "      <td>3.713881</td>\n",
              "      <td>0.322069</td>\n",
              "      <td>41.012669</td>\n",
              "      <td>22:57</td>\n",
              "    </tr>\n",
              "    <tr>\n",
              "      <td>2</td>\n",
              "      <td>3.631323</td>\n",
              "      <td>3.661057</td>\n",
              "      <td>0.327593</td>\n",
              "      <td>38.902458</td>\n",
              "      <td>22:58</td>\n",
              "    </tr>\n",
              "    <tr>\n",
              "      <td>3</td>\n",
              "      <td>3.571931</td>\n",
              "      <td>3.628157</td>\n",
              "      <td>0.331559</td>\n",
              "      <td>37.643383</td>\n",
              "      <td>22:57</td>\n",
              "    </tr>\n",
              "    <tr>\n",
              "      <td>4</td>\n",
              "      <td>3.496409</td>\n",
              "      <td>3.604099</td>\n",
              "      <td>0.334429</td>\n",
              "      <td>36.748569</td>\n",
              "      <td>23:01</td>\n",
              "    </tr>\n",
              "    <tr>\n",
              "      <td>5</td>\n",
              "      <td>3.442703</td>\n",
              "      <td>3.586575</td>\n",
              "      <td>0.337345</td>\n",
              "      <td>36.110195</td>\n",
              "      <td>23:03</td>\n",
              "    </tr>\n",
              "    <tr>\n",
              "      <td>6</td>\n",
              "      <td>3.366307</td>\n",
              "      <td>3.574365</td>\n",
              "      <td>0.339214</td>\n",
              "      <td>35.671959</td>\n",
              "      <td>23:08</td>\n",
              "    </tr>\n",
              "    <tr>\n",
              "      <td>7</td>\n",
              "      <td>3.286780</td>\n",
              "      <td>3.573454</td>\n",
              "      <td>0.340130</td>\n",
              "      <td>35.639477</td>\n",
              "      <td>23:39</td>\n",
              "    </tr>\n",
              "    <tr>\n",
              "      <td>8</td>\n",
              "      <td>3.232843</td>\n",
              "      <td>3.577133</td>\n",
              "      <td>0.340604</td>\n",
              "      <td>35.770828</td>\n",
              "      <td>23:09</td>\n",
              "    </tr>\n",
              "    <tr>\n",
              "      <td>9</td>\n",
              "      <td>3.216559</td>\n",
              "      <td>3.580853</td>\n",
              "      <td>0.340380</td>\n",
              "      <td>35.904137</td>\n",
              "      <td>23:02</td>\n",
              "    </tr>\n",
              "  </tbody>\n",
              "</table>"
            ],
            "text/plain": [
              "<IPython.core.display.HTML object>"
            ]
          },
          "metadata": {
            "tags": []
          }
        }
      ]
    },
    {
      "cell_type": "code",
      "metadata": {
        "id": "ajCDo8Lrr9yg"
      },
      "source": [
        "learn.save_encoder('/content/gdrive/MyDrive/Colab Notebooks/Experiments Part1 fastai/finetuned')"
      ],
      "execution_count": 42,
      "outputs": []
    },
    {
      "cell_type": "markdown",
      "metadata": {
        "id": "bQbShWq7l01B"
      },
      "source": [
        "> Text generation using language model"
      ]
    },
    {
      "cell_type": "code",
      "metadata": {
        "colab": {
          "base_uri": "https://localhost:8080/",
          "height": 17
        },
        "id": "PIF2zibAlk1e",
        "outputId": "b79295aa-eb8e-4df8-add9-7f3c8d01f7e5"
      },
      "source": [
        "TEXT = \"I like the movies because\"\r\n",
        "N_WORDS = 40\r\n",
        "N_SENTENCES = 2\r\n",
        "preds = [learn.predict(TEXT, N_WORDS, temperature = 0.75) for _ in range(N_SENTENCES)]"
      ],
      "execution_count": 45,
      "outputs": [
        {
          "output_type": "display_data",
          "data": {
            "text/html": [
              ""
            ],
            "text/plain": [
              "<IPython.core.display.HTML object>"
            ]
          },
          "metadata": {
            "tags": []
          }
        },
        {
          "output_type": "display_data",
          "data": {
            "text/html": [
              ""
            ],
            "text/plain": [
              "<IPython.core.display.HTML object>"
            ]
          },
          "metadata": {
            "tags": []
          }
        }
      ]
    },
    {
      "cell_type": "code",
      "metadata": {
        "colab": {
          "base_uri": "https://localhost:8080/"
        },
        "id": "Rnx78SwxmHEP",
        "outputId": "31fee32e-1de1-405b-e6b3-553e721d6609"
      },
      "source": [
        "print('\\n'.join(preds))"
      ],
      "execution_count": 46,
      "outputs": [
        {
          "output_type": "stream",
          "text": [
            "i like the movies because they are great , and i have seen The Lion King , Lion King and Lion 's Gate , and i thought that this one was better , and the story was nice\n",
            "i like the movies because of their performances , but this film was just too much . Its an unrealistic story and pretty uninteresting at the same time . The acting did n't really sound any good and the actors were just okay\n"
          ],
          "name": "stdout"
        }
      ]
    },
    {
      "cell_type": "markdown",
      "metadata": {
        "id": "oZw02WFnmmlF"
      },
      "source": [
        "## Training the Classification model"
      ]
    },
    {
      "cell_type": "code",
      "metadata": {
        "id": "eUGUZLnwmcsc"
      },
      "source": [
        "dls_clas = DataBlock(\r\n",
        "    blocks=(TextBlock.from_folder(path, vocab=dls_lm.vocab), CategoryBlock),\r\n",
        "    get_y = parent_label,\r\n",
        "    get_items = partial(get_text_files, folders=['train', 'test']),\r\n",
        "    splitter = GrandparentSplitter(valid_name='test')\r\n",
        ").dataloaders(path, path=path, bs=128, seq_len=72)"
      ],
      "execution_count": 48,
      "outputs": []
    },
    {
      "cell_type": "code",
      "metadata": {
        "colab": {
          "base_uri": "https://localhost:8080/",
          "height": 329
        },
        "id": "rpw1OIrrnMUt",
        "outputId": "21f9855c-1b80-488a-d28c-117a448d7602"
      },
      "source": [
        "dls_clas.show_batch(max_n=3)"
      ],
      "execution_count": 49,
      "outputs": [
        {
          "output_type": "display_data",
          "data": {
            "text/html": [
              "<table border=\"1\" class=\"dataframe\">\n",
              "  <thead>\n",
              "    <tr style=\"text-align: right;\">\n",
              "      <th></th>\n",
              "      <th>text</th>\n",
              "      <th>category</th>\n",
              "    </tr>\n",
              "  </thead>\n",
              "  <tbody>\n",
              "    <tr>\n",
              "      <th>0</th>\n",
              "      <td>xxbos xxmaj match 1 : xxmaj tag xxmaj team xxmaj table xxmaj match xxmaj bubba xxmaj ray and xxmaj spike xxmaj dudley vs xxmaj eddie xxmaj guerrero and xxmaj chris xxmaj benoit xxmaj bubba xxmaj ray and xxmaj spike xxmaj dudley started things off with a xxmaj tag xxmaj team xxmaj table xxmaj match against xxmaj eddie xxmaj guerrero and xxmaj chris xxmaj benoit . xxmaj according to the rules of the match , both opponents have to go through tables in order to get the win . xxmaj benoit and xxmaj guerrero heated up early on by taking turns hammering first xxmaj spike and then xxmaj bubba xxmaj ray . a xxmaj german xxunk by xxmaj benoit to xxmaj bubba took the wind out of the xxmaj dudley brother . xxmaj spike tried to help his brother , but the referee restrained him while xxmaj benoit and xxmaj guerrero</td>\n",
              "      <td>pos</td>\n",
              "    </tr>\n",
              "    <tr>\n",
              "      <th>1</th>\n",
              "      <td>xxbos xxmaj by now you 've probably heard a bit about the new xxmaj disney dub of xxmaj miyazaki 's classic film , xxmaj laputa : xxmaj castle xxmaj in xxmaj the xxmaj sky . xxmaj during late summer of 1998 , xxmaj disney released \" kiki 's xxmaj delivery xxmaj service \" on video which included a preview of the xxmaj laputa dub saying it was due out in \" 1 xxrep 3 9 \" . xxmaj it 's obviously way past that year now , but the dub has been finally completed . xxmaj and it 's not \" laputa : xxmaj castle xxmaj in xxmaj the xxmaj sky \" , just \" castle xxmaj in xxmaj the xxmaj sky \" for the dub , since xxmaj laputa is not such a nice word in xxmaj spanish ( even though they use the word xxmaj laputa many times</td>\n",
              "      <td>pos</td>\n",
              "    </tr>\n",
              "    <tr>\n",
              "      <th>2</th>\n",
              "      <td>xxbos xxmaj raising xxmaj victor xxmaj vargas : a xxmaj review \\n\\n xxmaj you know , xxmaj raising xxmaj victor xxmaj vargas is like sticking your hands into a big , steaming bowl of oatmeal . xxmaj it 's warm and gooey , but you 're not sure if it feels right . xxmaj try as i might , no matter how warm and gooey xxmaj raising xxmaj victor xxmaj vargas became i was always aware that something did n't quite feel right . xxmaj victor xxmaj vargas suffers from a certain overconfidence on the director 's part . xxmaj apparently , the director thought that the ethnic backdrop of a xxmaj latino family on the lower east side , and an idyllic storyline would make the film critic proof . xxmaj he was right , but it did n't fool me . xxmaj raising xxmaj victor xxmaj vargas is</td>\n",
              "      <td>neg</td>\n",
              "    </tr>\n",
              "  </tbody>\n",
              "</table>"
            ],
            "text/plain": [
              "<IPython.core.display.HTML object>"
            ]
          },
          "metadata": {
            "tags": []
          }
        }
      ]
    },
    {
      "cell_type": "code",
      "metadata": {
        "id": "XGPjML_ane5b"
      },
      "source": [
        "learn = text_classifier_learner(dls_clas, AWD_LSTM, drop_mult=0.5, metrics=accuracy).to_fp16()"
      ],
      "execution_count": 50,
      "outputs": []
    },
    {
      "cell_type": "code",
      "metadata": {
        "colab": {
          "base_uri": "https://localhost:8080/"
        },
        "id": "W9n3ZFhHn3ST",
        "outputId": "514c25ec-bc9a-427d-9603-903483297a3a"
      },
      "source": [
        "learn.load_encoder(\"/content/gdrive/MyDrive/Colab Notebooks/Experiments Part1 fastai/finetuned\")"
      ],
      "execution_count": 52,
      "outputs": [
        {
          "output_type": "execute_result",
          "data": {
            "text/plain": [
              "<fastai.text.learner.TextLearner at 0x7f754b6cf690>"
            ]
          },
          "metadata": {
            "tags": []
          },
          "execution_count": 52
        }
      ]
    },
    {
      "cell_type": "code",
      "metadata": {
        "colab": {
          "base_uri": "https://localhost:8080/",
          "height": 80
        },
        "id": "_KKxFs8hoEhz",
        "outputId": "6d7d35d1-fd22-4a2e-de43-ce550a44a408"
      },
      "source": [
        "learn.fit_one_cycle(1, 2e-2)"
      ],
      "execution_count": 53,
      "outputs": [
        {
          "output_type": "display_data",
          "data": {
            "text/html": [
              "<table border=\"1\" class=\"dataframe\">\n",
              "  <thead>\n",
              "    <tr style=\"text-align: left;\">\n",
              "      <th>epoch</th>\n",
              "      <th>train_loss</th>\n",
              "      <th>valid_loss</th>\n",
              "      <th>accuracy</th>\n",
              "      <th>time</th>\n",
              "    </tr>\n",
              "  </thead>\n",
              "  <tbody>\n",
              "    <tr>\n",
              "      <td>0</td>\n",
              "      <td>0.253113</td>\n",
              "      <td>0.179493</td>\n",
              "      <td>0.929480</td>\n",
              "      <td>01:07</td>\n",
              "    </tr>\n",
              "  </tbody>\n",
              "</table>"
            ],
            "text/plain": [
              "<IPython.core.display.HTML object>"
            ]
          },
          "metadata": {
            "tags": []
          }
        }
      ]
    },
    {
      "cell_type": "code",
      "metadata": {
        "colab": {
          "base_uri": "https://localhost:8080/",
          "height": 80
        },
        "id": "nqVTPoJxojJF",
        "outputId": "6f31a33b-905f-420d-8b53-3857b32fe3f3"
      },
      "source": [
        "learn.freeze_to(-3)\r\n",
        "learn.fit_one_cycle(1, slice(5e-3/(2.6**4), 5e-3))"
      ],
      "execution_count": 54,
      "outputs": [
        {
          "output_type": "display_data",
          "data": {
            "text/html": [
              "<table border=\"1\" class=\"dataframe\">\n",
              "  <thead>\n",
              "    <tr style=\"text-align: left;\">\n",
              "      <th>epoch</th>\n",
              "      <th>train_loss</th>\n",
              "      <th>valid_loss</th>\n",
              "      <th>accuracy</th>\n",
              "      <th>time</th>\n",
              "    </tr>\n",
              "  </thead>\n",
              "  <tbody>\n",
              "    <tr>\n",
              "      <td>0</td>\n",
              "      <td>0.212495</td>\n",
              "      <td>0.154234</td>\n",
              "      <td>0.942200</td>\n",
              "      <td>01:30</td>\n",
              "    </tr>\n",
              "  </tbody>\n",
              "</table>"
            ],
            "text/plain": [
              "<IPython.core.display.HTML object>"
            ]
          },
          "metadata": {
            "tags": []
          }
        }
      ]
    },
    {
      "cell_type": "code",
      "metadata": {
        "colab": {
          "base_uri": "https://localhost:8080/",
          "height": 111
        },
        "id": "68Ki7QiLoRsn",
        "outputId": "40cbcce0-e4cd-4eaf-cce3-fc8bc3fdcfff"
      },
      "source": [
        "learn.unfreeze()\r\n",
        "learn.fit_one_cycle(2, slice(1e-3/(2.6**4), 1e-3))"
      ],
      "execution_count": 55,
      "outputs": [
        {
          "output_type": "display_data",
          "data": {
            "text/html": [
              "<table border=\"1\" class=\"dataframe\">\n",
              "  <thead>\n",
              "    <tr style=\"text-align: left;\">\n",
              "      <th>epoch</th>\n",
              "      <th>train_loss</th>\n",
              "      <th>valid_loss</th>\n",
              "      <th>accuracy</th>\n",
              "      <th>time</th>\n",
              "    </tr>\n",
              "  </thead>\n",
              "  <tbody>\n",
              "    <tr>\n",
              "      <td>0</td>\n",
              "      <td>0.178305</td>\n",
              "      <td>0.148207</td>\n",
              "      <td>0.945600</td>\n",
              "      <td>01:54</td>\n",
              "    </tr>\n",
              "    <tr>\n",
              "      <td>1</td>\n",
              "      <td>0.166674</td>\n",
              "      <td>0.147651</td>\n",
              "      <td>0.945560</td>\n",
              "      <td>01:54</td>\n",
              "    </tr>\n",
              "  </tbody>\n",
              "</table>"
            ],
            "text/plain": [
              "<IPython.core.display.HTML object>"
            ]
          },
          "metadata": {
            "tags": []
          }
        }
      ]
    }
  ]
}