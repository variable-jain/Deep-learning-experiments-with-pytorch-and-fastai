{
  "nbformat": 4,
  "nbformat_minor": 0,
  "metadata": {
    "colab": {
      "name": "Language Model from Scratch.ipynb",
      "provenance": [],
      "collapsed_sections": [],
      "mount_file_id": "1S2jYwVluSMl-RBDlgL0hk5jydhTTmLC8",
      "authorship_tag": "ABX9TyOa1gqb0t0wMevIOZP0kXOn",
      "include_colab_link": true
    },
    "kernelspec": {
      "name": "python3",
      "display_name": "Python 3"
    },
    "accelerator": "GPU"
  },
  "cells": [
    {
      "cell_type": "markdown",
      "metadata": {
        "id": "view-in-github",
        "colab_type": "text"
      },
      "source": [
        "<a href=\"https://colab.research.google.com/github/variable-jain/Deep-learning-experiments-with-pytorch-and-fastai/blob/main/Language_Model_from_Scratch.ipynb\" target=\"_parent\"><img src=\"https://colab.research.google.com/assets/colab-badge.svg\" alt=\"Open In Colab\"/></a>"
      ]
    },
    {
      "cell_type": "markdown",
      "metadata": {
        "id": "pEZmuZ_-Y0-i"
      },
      "source": [
        "# A Language Model from Scratch in Pytorch"
      ]
    },
    {
      "cell_type": "code",
      "metadata": {
        "id": "ANTR0TJ_aHNt"
      },
      "source": [
        "from google.colab import drive\r\n",
        "drive.mount('/content/drive')"
      ],
      "execution_count": null,
      "outputs": []
    },
    {
      "cell_type": "code",
      "metadata": {
        "id": "cy8crJj8Zfy4"
      },
      "source": [
        "!pip install -Uqq fastbook\r\n",
        "import fastbook\r\n",
        "fastbook.setup_book()"
      ],
      "execution_count": null,
      "outputs": []
    },
    {
      "cell_type": "code",
      "metadata": {
        "id": "5hp9QfCcYpck"
      },
      "source": [
        "from fastai.text.all import *"
      ],
      "execution_count": 2,
      "outputs": []
    },
    {
      "cell_type": "markdown",
      "metadata": {
        "id": "vKCeR5NHZUA4"
      },
      "source": [
        "## The Data"
      ]
    },
    {
      "cell_type": "code",
      "metadata": {
        "colab": {
          "base_uri": "https://localhost:8080/",
          "height": 34
        },
        "id": "Pt1OnMYgZTd7",
        "outputId": "a1ef7389-605d-42ea-e031-946cd4039919"
      },
      "source": [
        "path = untar_data(URLs.HUMAN_NUMBERS)\r\n",
        "path.ls()"
      ],
      "execution_count": 3,
      "outputs": [
        {
          "output_type": "display_data",
          "data": {
            "text/html": [
              ""
            ],
            "text/plain": [
              "<IPython.core.display.HTML object>"
            ]
          },
          "metadata": {
            "tags": []
          }
        },
        {
          "output_type": "execute_result",
          "data": {
            "text/plain": [
              "(#2) [Path('/root/.fastai/data/human_numbers/valid.txt'),Path('/root/.fastai/data/human_numbers/train.txt')]"
            ]
          },
          "metadata": {
            "tags": []
          },
          "execution_count": 3
        }
      ]
    },
    {
      "cell_type": "code",
      "metadata": {
        "colab": {
          "base_uri": "https://localhost:8080/"
        },
        "id": "F8_ocnpraoty",
        "outputId": "2aef67a2-056e-42b8-d134-000b6dab02ff"
      },
      "source": [
        "lines = L()\r\n",
        "with open(path/'train.txt') as f: lines += L(*f.readlines())\r\n",
        "with open(path/'valid.txt') as f: lines += L(*f.readlines())\r\n",
        "lines"
      ],
      "execution_count": 4,
      "outputs": [
        {
          "output_type": "execute_result",
          "data": {
            "text/plain": [
              "(#9998) ['one \\n','two \\n','three \\n','four \\n','five \\n','six \\n','seven \\n','eight \\n','nine \\n','ten \\n'...]"
            ]
          },
          "metadata": {
            "tags": []
          },
          "execution_count": 4
        }
      ]
    },
    {
      "cell_type": "code",
      "metadata": {
        "colab": {
          "base_uri": "https://localhost:8080/",
          "height": 35
        },
        "id": "nlH2ykAMbJNk",
        "outputId": "2c12c5e3-aab2-47bf-d52a-4c585f53cd0a"
      },
      "source": [
        "text = ' . '.join([l.strip() for l in lines])\r\n",
        "text[:100]"
      ],
      "execution_count": 5,
      "outputs": [
        {
          "output_type": "execute_result",
          "data": {
            "application/vnd.google.colaboratory.intrinsic+json": {
              "type": "string"
            },
            "text/plain": [
              "'one . two . three . four . five . six . seven . eight . nine . ten . eleven . twelve . thirteen . fo'"
            ]
          },
          "metadata": {
            "tags": []
          },
          "execution_count": 5
        }
      ]
    },
    {
      "cell_type": "code",
      "metadata": {
        "colab": {
          "base_uri": "https://localhost:8080/"
        },
        "id": "2ShLkthibclJ",
        "outputId": "977e2404-2e99-442d-c46f-8c83a20d450f"
      },
      "source": [
        "tokens = text.split(' ')\r\n",
        "tokens[:10]"
      ],
      "execution_count": 6,
      "outputs": [
        {
          "output_type": "execute_result",
          "data": {
            "text/plain": [
              "['one', '.', 'two', '.', 'three', '.', 'four', '.', 'five', '.']"
            ]
          },
          "metadata": {
            "tags": []
          },
          "execution_count": 6
        }
      ]
    },
    {
      "cell_type": "code",
      "metadata": {
        "colab": {
          "base_uri": "https://localhost:8080/"
        },
        "id": "cfImsB3TcCVA",
        "outputId": "5251374f-8793-4703-d2f3-c9627006d56b"
      },
      "source": [
        "vocab = L(*tokens).unique()\r\n",
        "vocab"
      ],
      "execution_count": 7,
      "outputs": [
        {
          "output_type": "execute_result",
          "data": {
            "text/plain": [
              "(#30) ['one','.','two','three','four','five','six','seven','eight','nine'...]"
            ]
          },
          "metadata": {
            "tags": []
          },
          "execution_count": 7
        }
      ]
    },
    {
      "cell_type": "code",
      "metadata": {
        "colab": {
          "base_uri": "https://localhost:8080/"
        },
        "id": "gasE2H3vcZf6",
        "outputId": "65dfbd15-ad5c-4d7a-921f-e29b1ec512f3"
      },
      "source": [
        "word2idx = {w:i for i,w in enumerate(vocab)}\r\n",
        "nums = L(word2idx[t] for t in tokens)\r\n",
        "nums"
      ],
      "execution_count": 8,
      "outputs": [
        {
          "output_type": "execute_result",
          "data": {
            "text/plain": [
              "(#63095) [0,1,2,1,3,1,4,1,5,1...]"
            ]
          },
          "metadata": {
            "tags": []
          },
          "execution_count": 8
        }
      ]
    },
    {
      "cell_type": "markdown",
      "metadata": {
        "id": "dNpvBUB5c7mA"
      },
      "source": [
        "## Our first language model from scratch\r\n",
        "predicting each word based on previous three words"
      ]
    },
    {
      "cell_type": "markdown",
      "metadata": {
        "id": "fTTfReCIeYZn"
      },
      "source": [
        "### Setting up data\r\n",
        "Creating dataloaders"
      ]
    },
    {
      "cell_type": "code",
      "metadata": {
        "colab": {
          "base_uri": "https://localhost:8080/"
        },
        "id": "m9V8DnOjcxdY",
        "outputId": "d1b3ab97-192a-45dd-ea35-fb26f7d961ab"
      },
      "source": [
        "L((tokens[i:i+3], tokens[i+3]) for i in range(0,len(tokens)-4,3))"
      ],
      "execution_count": 9,
      "outputs": [
        {
          "output_type": "execute_result",
          "data": {
            "text/plain": [
              "(#21031) [(['one', '.', 'two'], '.'),(['.', 'three', '.'], 'four'),(['four', '.', 'five'], '.'),(['.', 'six', '.'], 'seven'),(['seven', '.', 'eight'], '.'),(['.', 'nine', '.'], 'ten'),(['ten', '.', 'eleven'], '.'),(['.', 'twelve', '.'], 'thirteen'),(['thirteen', '.', 'fourteen'], '.'),(['.', 'fifteen', '.'], 'sixteen')...]"
            ]
          },
          "metadata": {
            "tags": []
          },
          "execution_count": 9
        }
      ]
    },
    {
      "cell_type": "code",
      "metadata": {
        "colab": {
          "base_uri": "https://localhost:8080/"
        },
        "id": "q8PqyyR9daLm",
        "outputId": "a1ac0099-94bd-443e-c14a-1814ab7c49ee"
      },
      "source": [
        "seqs = L((tensor(nums[i:i+3]), nums[i+3]) for i in range(0,len(nums)-4,3))\r\n",
        "seqs"
      ],
      "execution_count": 10,
      "outputs": [
        {
          "output_type": "execute_result",
          "data": {
            "text/plain": [
              "(#21031) [(tensor([0, 1, 2]), 1),(tensor([1, 3, 1]), 4),(tensor([4, 1, 5]), 1),(tensor([1, 6, 1]), 7),(tensor([7, 1, 8]), 1),(tensor([1, 9, 1]), 10),(tensor([10,  1, 11]), 1),(tensor([ 1, 12,  1]), 13),(tensor([13,  1, 14]), 1),(tensor([ 1, 15,  1]), 16)...]"
            ]
          },
          "metadata": {
            "tags": []
          },
          "execution_count": 10
        }
      ]
    },
    {
      "cell_type": "code",
      "metadata": {
        "id": "ZisdebSwdtLw"
      },
      "source": [
        "bs = 64\r\n",
        "cut = int(len(seqs) * 0.8)\r\n",
        "dls = DataLoaders.from_dsets(seqs[:cut], seqs[cut:], bs=64, shuffle=False)"
      ],
      "execution_count": 11,
      "outputs": []
    },
    {
      "cell_type": "markdown",
      "metadata": {
        "id": "Y47NXZSXefmG"
      },
      "source": [
        "### The language model"
      ]
    },
    {
      "cell_type": "code",
      "metadata": {
        "id": "NqrITJUWeJnp"
      },
      "source": [
        "class LMModel1(Module):\r\n",
        "    def __init__(self, vocab_sz, n_hidden):\r\n",
        "        self.i_h = nn.Embedding(vocab_sz, n_hidden)\r\n",
        "        self.h_h = nn.Linear(n_hidden, n_hidden)\r\n",
        "        self.h_o = nn.Linear(n_hidden, vocab_sz)\r\n",
        "        \r\n",
        "    def forward(self, x):\r\n",
        "        h = F.relu(self.h_h(self.i_h(x[:,0])))\r\n",
        "        h = h + self.i_h(x[:,1])\r\n",
        "        h = F.relu(self.h_h(h))\r\n",
        "        h = h + self.i_h(x[:,2])\r\n",
        "        h = F.relu(self.h_h(h))\r\n",
        "        return self.h_o(h)"
      ],
      "execution_count": 12,
      "outputs": []
    },
    {
      "cell_type": "code",
      "metadata": {
        "colab": {
          "base_uri": "https://localhost:8080/",
          "height": 173
        },
        "id": "RSd6hTGxjhVe",
        "outputId": "c1ada7e5-c0c2-4935-c32d-4357da859451"
      },
      "source": [
        "learn = Learner(dls, LMModel1(len(vocab), 64), loss_func=F.cross_entropy, metrics=accuracy)\r\n",
        "learn.fit_one_cycle(4, 1e-3)"
      ],
      "execution_count": 13,
      "outputs": [
        {
          "output_type": "display_data",
          "data": {
            "text/html": [
              "<table border=\"1\" class=\"dataframe\">\n",
              "  <thead>\n",
              "    <tr style=\"text-align: left;\">\n",
              "      <th>epoch</th>\n",
              "      <th>train_loss</th>\n",
              "      <th>valid_loss</th>\n",
              "      <th>accuracy</th>\n",
              "      <th>time</th>\n",
              "    </tr>\n",
              "  </thead>\n",
              "  <tbody>\n",
              "    <tr>\n",
              "      <td>0</td>\n",
              "      <td>1.824297</td>\n",
              "      <td>1.970941</td>\n",
              "      <td>0.467554</td>\n",
              "      <td>00:01</td>\n",
              "    </tr>\n",
              "    <tr>\n",
              "      <td>1</td>\n",
              "      <td>1.386973</td>\n",
              "      <td>1.823242</td>\n",
              "      <td>0.467554</td>\n",
              "      <td>00:01</td>\n",
              "    </tr>\n",
              "    <tr>\n",
              "      <td>2</td>\n",
              "      <td>1.417556</td>\n",
              "      <td>1.654497</td>\n",
              "      <td>0.494414</td>\n",
              "      <td>00:01</td>\n",
              "    </tr>\n",
              "    <tr>\n",
              "      <td>3</td>\n",
              "      <td>1.376440</td>\n",
              "      <td>1.650849</td>\n",
              "      <td>0.494414</td>\n",
              "      <td>00:01</td>\n",
              "    </tr>\n",
              "  </tbody>\n",
              "</table>"
            ],
            "text/plain": [
              "<IPython.core.display.HTML object>"
            ]
          },
          "metadata": {
            "tags": []
          }
        }
      ]
    },
    {
      "cell_type": "markdown",
      "metadata": {
        "id": "G7g2xzPgkcuj"
      },
      "source": [
        "### Recurrent Neural Network"
      ]
    },
    {
      "cell_type": "code",
      "metadata": {
        "id": "dfaYnrz1kBjW"
      },
      "source": [
        "class LMModel2(Module):\r\n",
        "    def __init__(self, vocab_sz, n_hidden):\r\n",
        "        self.i_h = nn.Embedding(vocab_sz, n_hidden)\r\n",
        "        self.h_h = nn.Linear(n_hidden, n_hidden)\r\n",
        "        self.h_o = nn.Linear(n_hidden, vocab_sz)\r\n",
        "        \r\n",
        "    def forward(self, x):\r\n",
        "        h = 0\r\n",
        "        for i in range(3):\r\n",
        "            h = h + self.i_h(x[:,i])\r\n",
        "            h = F.relu(self.h_h(h))\r\n",
        "        return self.h_o(h)"
      ],
      "execution_count": 14,
      "outputs": []
    },
    {
      "cell_type": "code",
      "metadata": {
        "colab": {
          "base_uri": "https://localhost:8080/",
          "height": 173
        },
        "id": "lgGpoNsllUi2",
        "outputId": "9225a538-955b-49a4-9402-542a8e5947ef"
      },
      "source": [
        "learn = Learner(dls, LMModel2(len(vocab), 64), loss_func=F.cross_entropy, metrics=accuracy)\r\n",
        "learn.fit_one_cycle(4, 1e-3)"
      ],
      "execution_count": 15,
      "outputs": [
        {
          "output_type": "display_data",
          "data": {
            "text/html": [
              "<table border=\"1\" class=\"dataframe\">\n",
              "  <thead>\n",
              "    <tr style=\"text-align: left;\">\n",
              "      <th>epoch</th>\n",
              "      <th>train_loss</th>\n",
              "      <th>valid_loss</th>\n",
              "      <th>accuracy</th>\n",
              "      <th>time</th>\n",
              "    </tr>\n",
              "  </thead>\n",
              "  <tbody>\n",
              "    <tr>\n",
              "      <td>0</td>\n",
              "      <td>1.854185</td>\n",
              "      <td>1.983789</td>\n",
              "      <td>0.467079</td>\n",
              "      <td>00:01</td>\n",
              "    </tr>\n",
              "    <tr>\n",
              "      <td>1</td>\n",
              "      <td>1.404229</td>\n",
              "      <td>1.786536</td>\n",
              "      <td>0.468029</td>\n",
              "      <td>00:01</td>\n",
              "    </tr>\n",
              "    <tr>\n",
              "      <td>2</td>\n",
              "      <td>1.432140</td>\n",
              "      <td>1.702118</td>\n",
              "      <td>0.489422</td>\n",
              "      <td>00:01</td>\n",
              "    </tr>\n",
              "    <tr>\n",
              "      <td>3</td>\n",
              "      <td>1.398790</td>\n",
              "      <td>1.681968</td>\n",
              "      <td>0.471120</td>\n",
              "      <td>00:01</td>\n",
              "    </tr>\n",
              "  </tbody>\n",
              "</table>"
            ],
            "text/plain": [
              "<IPython.core.display.HTML object>"
            ]
          },
          "metadata": {
            "tags": []
          }
        }
      ]
    },
    {
      "cell_type": "markdown",
      "metadata": {
        "id": "-ymNyoDTnVLq"
      },
      "source": [
        "## Improving the Recurrent Neural Network"
      ]
    },
    {
      "cell_type": "markdown",
      "metadata": {
        "id": "nyjplStdnohL"
      },
      "source": [
        "We will work on three issues:\r\n",
        "1. Maintaining the state of an RNN\r\n",
        "2. Creating more signal\r\n",
        "3. Add more rnn layers"
      ]
    },
    {
      "cell_type": "markdown",
      "metadata": {
        "id": "X1iAfX2Dny3x"
      },
      "source": [
        "### Maintaining the state of the RNN"
      ]
    },
    {
      "cell_type": "code",
      "metadata": {
        "id": "w07nwvjrleCr"
      },
      "source": [
        "class LMModel3(Module):\r\n",
        "    def __init__(self, vocab_sz, n_hidden):\r\n",
        "        self.i_h = nn.Embedding(vocab_sz, n_hidden)\r\n",
        "        self.h_h = nn.Linear(n_hidden, n_hidden)\r\n",
        "        self.h_o = nn.Linear(n_hidden, vocab_sz)\r\n",
        "        self.h = 0\r\n",
        "    \r\n",
        "    def forward(self, x):\r\n",
        "        for i in range(3):\r\n",
        "            self.h = self.h + self.i_h(x[:,i])\r\n",
        "            self.h = F.relu(self.h_h(self.h))\r\n",
        "        out = self.h_o(self.h)\r\n",
        "        self.h = self.h.detach()\r\n",
        "        return out\r\n",
        "    \r\n",
        "    def reset(self): self.h = 0"
      ],
      "execution_count": 16,
      "outputs": []
    },
    {
      "cell_type": "code",
      "metadata": {
        "id": "3uq_yy_soqwR"
      },
      "source": [
        "def group_chunks(ds, bs):\r\n",
        "    m = len(ds)//bs\r\n",
        "    new_ds = L()\r\n",
        "    for i in range(m): new_ds += L(ds[i+m*j] for j in range(bs))\r\n",
        "    return new_ds"
      ],
      "execution_count": 17,
      "outputs": []
    },
    {
      "cell_type": "code",
      "metadata": {
        "id": "lSXk_Ls63TM6"
      },
      "source": [
        "cut = int(len(seqs)*0.8)\r\n",
        "dls = DataLoaders.from_dsets(\r\n",
        "    group_chunks(seqs[:cut], bs),\r\n",
        "    group_chunks(seqs[cut:], bs),\r\n",
        "    bs=bs, drop_last=True, shuffle=False)"
      ],
      "execution_count": 18,
      "outputs": []
    },
    {
      "cell_type": "code",
      "metadata": {
        "colab": {
          "base_uri": "https://localhost:8080/",
          "height": 359
        },
        "id": "R8YbKe6h4Osj",
        "outputId": "07a6376b-0910-4f19-f7c2-c1b3d5b7ddf1"
      },
      "source": [
        "learn = Learner(dls, LMModel3(len(vocab), 64), loss_func=F.cross_entropy, metrics=accuracy, cbs=ModelResetter)\r\n",
        "learn.fit_one_cycle(10, 3e-3)"
      ],
      "execution_count": 20,
      "outputs": [
        {
          "output_type": "display_data",
          "data": {
            "text/html": [
              "<table border=\"1\" class=\"dataframe\">\n",
              "  <thead>\n",
              "    <tr style=\"text-align: left;\">\n",
              "      <th>epoch</th>\n",
              "      <th>train_loss</th>\n",
              "      <th>valid_loss</th>\n",
              "      <th>accuracy</th>\n",
              "      <th>time</th>\n",
              "    </tr>\n",
              "  </thead>\n",
              "  <tbody>\n",
              "    <tr>\n",
              "      <td>0</td>\n",
              "      <td>1.693835</td>\n",
              "      <td>1.807487</td>\n",
              "      <td>0.483413</td>\n",
              "      <td>00:01</td>\n",
              "    </tr>\n",
              "    <tr>\n",
              "      <td>1</td>\n",
              "      <td>1.261559</td>\n",
              "      <td>1.720321</td>\n",
              "      <td>0.488462</td>\n",
              "      <td>00:01</td>\n",
              "    </tr>\n",
              "    <tr>\n",
              "      <td>2</td>\n",
              "      <td>1.068692</td>\n",
              "      <td>1.688939</td>\n",
              "      <td>0.476202</td>\n",
              "      <td>00:01</td>\n",
              "    </tr>\n",
              "    <tr>\n",
              "      <td>3</td>\n",
              "      <td>1.017563</td>\n",
              "      <td>1.589860</td>\n",
              "      <td>0.496154</td>\n",
              "      <td>00:01</td>\n",
              "    </tr>\n",
              "    <tr>\n",
              "      <td>4</td>\n",
              "      <td>0.967448</td>\n",
              "      <td>1.629246</td>\n",
              "      <td>0.533654</td>\n",
              "      <td>00:01</td>\n",
              "    </tr>\n",
              "    <tr>\n",
              "      <td>5</td>\n",
              "      <td>0.909269</td>\n",
              "      <td>1.677847</td>\n",
              "      <td>0.542548</td>\n",
              "      <td>00:01</td>\n",
              "    </tr>\n",
              "    <tr>\n",
              "      <td>6</td>\n",
              "      <td>0.888032</td>\n",
              "      <td>1.633154</td>\n",
              "      <td>0.579087</td>\n",
              "      <td>00:01</td>\n",
              "    </tr>\n",
              "    <tr>\n",
              "      <td>7</td>\n",
              "      <td>0.818515</td>\n",
              "      <td>1.646275</td>\n",
              "      <td>0.587019</td>\n",
              "      <td>00:01</td>\n",
              "    </tr>\n",
              "    <tr>\n",
              "      <td>8</td>\n",
              "      <td>0.778004</td>\n",
              "      <td>1.739808</td>\n",
              "      <td>0.595433</td>\n",
              "      <td>00:01</td>\n",
              "    </tr>\n",
              "    <tr>\n",
              "      <td>9</td>\n",
              "      <td>0.763503</td>\n",
              "      <td>1.742119</td>\n",
              "      <td>0.593029</td>\n",
              "      <td>00:01</td>\n",
              "    </tr>\n",
              "  </tbody>\n",
              "</table>"
            ],
            "text/plain": [
              "<IPython.core.display.HTML object>"
            ]
          },
          "metadata": {
            "tags": []
          }
        }
      ]
    },
    {
      "cell_type": "markdown",
      "metadata": {
        "id": "eBooq9HJ5O5f"
      },
      "source": [
        "### Creating more signal"
      ]
    },
    {
      "cell_type": "code",
      "metadata": {
        "id": "DcYi9IPU4ih5"
      },
      "source": [
        "sl = 16\r\n",
        "seqs = L((tensor(nums[i:i+sl]), tensor(nums[i+1:i+sl+1])) for i in range(0, len(nums)-sl-1))\r\n",
        "cut = int(len(seqs)*0.8)\r\n",
        "dls = DataLoaders.from_dsets(group_chunks(seqs[:cut], bs),\r\n",
        "                             group_chunks(seqs[cut:], bs),\r\n",
        "                             bs=bs, drop_last=True, shuffle=False)"
      ],
      "execution_count": 23,
      "outputs": []
    },
    {
      "cell_type": "code",
      "metadata": {
        "colab": {
          "base_uri": "https://localhost:8080/"
        },
        "id": "TY8sWdKc6P5L",
        "outputId": "e63ab2c1-d9e1-4b1e-cf71-7187625d3422"
      },
      "source": [
        "[L(vocab[o] for o in s) for s in seqs[0]]"
      ],
      "execution_count": 24,
      "outputs": [
        {
          "output_type": "execute_result",
          "data": {
            "text/plain": [
              "[(#16) ['one','.','two','.','three','.','four','.','five','.'...],\n",
              " (#16) ['.','two','.','three','.','four','.','five','.','six'...]]"
            ]
          },
          "metadata": {
            "tags": []
          },
          "execution_count": 24
        }
      ]
    },
    {
      "cell_type": "code",
      "metadata": {
        "id": "gFPGRsYe6jly"
      },
      "source": [
        "class LMModel4(Module):\r\n",
        "    def __init__(self, vocab_sz, n_hidden):\r\n",
        "        self.i_h = nn.Embedding(vocab_sz, n_hidden)\r\n",
        "        self.h_h = nn.Linear(n_hidden, n_hidden)\r\n",
        "        self.h_o = nn.Linear(n_hidden, vocab_sz)\r\n",
        "        self.h = 0\r\n",
        "    \r\n",
        "    def forward(self, x):\r\n",
        "        outs = []\r\n",
        "        for i in range(sl):\r\n",
        "            self.h = self.h + self.i_h(x[:,i])\r\n",
        "            self.h = F.relu(self.h_h(self.h))\r\n",
        "            outs.append(self.h_o(self.h))\r\n",
        "        self.h = self.h.detach()\r\n",
        "        return torch.stack(outs, dim=1)\r\n",
        "    \r\n",
        "    def reset(self): self.h = 0"
      ],
      "execution_count": 25,
      "outputs": []
    },
    {
      "cell_type": "code",
      "metadata": {
        "id": "I5Je70cy7sfc"
      },
      "source": [
        "def loss_function(inp, targ):\r\n",
        "    return F.cross_entropy(inp.view(-1, len(vocab)), targ.view(-1))"
      ],
      "execution_count": 26,
      "outputs": []
    },
    {
      "cell_type": "code",
      "metadata": {
        "colab": {
          "base_uri": "https://localhost:8080/",
          "height": 514
        },
        "id": "cgsTbBs08KyT",
        "outputId": "e871106a-1427-4e44-ddb8-6861bfc1cb4f"
      },
      "source": [
        "learn = Learner(dls, LMModel4(len(vocab), 64), loss_func=loss_function, metrics=accuracy, cbs=ModelResetter)\r\n",
        "learn.fit_one_cycle(15, 3e-3)"
      ],
      "execution_count": 27,
      "outputs": [
        {
          "output_type": "display_data",
          "data": {
            "text/html": [
              "<table border=\"1\" class=\"dataframe\">\n",
              "  <thead>\n",
              "    <tr style=\"text-align: left;\">\n",
              "      <th>epoch</th>\n",
              "      <th>train_loss</th>\n",
              "      <th>valid_loss</th>\n",
              "      <th>accuracy</th>\n",
              "      <th>time</th>\n",
              "    </tr>\n",
              "  </thead>\n",
              "  <tbody>\n",
              "    <tr>\n",
              "      <td>0</td>\n",
              "      <td>1.381184</td>\n",
              "      <td>1.892017</td>\n",
              "      <td>0.444713</td>\n",
              "      <td>00:10</td>\n",
              "    </tr>\n",
              "    <tr>\n",
              "      <td>1</td>\n",
              "      <td>1.126689</td>\n",
              "      <td>1.917279</td>\n",
              "      <td>0.481188</td>\n",
              "      <td>00:10</td>\n",
              "    </tr>\n",
              "    <tr>\n",
              "      <td>2</td>\n",
              "      <td>0.894251</td>\n",
              "      <td>1.899269</td>\n",
              "      <td>0.499881</td>\n",
              "      <td>00:10</td>\n",
              "    </tr>\n",
              "    <tr>\n",
              "      <td>3</td>\n",
              "      <td>0.699333</td>\n",
              "      <td>2.327491</td>\n",
              "      <td>0.510807</td>\n",
              "      <td>00:09</td>\n",
              "    </tr>\n",
              "    <tr>\n",
              "      <td>4</td>\n",
              "      <td>0.597686</td>\n",
              "      <td>2.460619</td>\n",
              "      <td>0.557399</td>\n",
              "      <td>00:09</td>\n",
              "    </tr>\n",
              "    <tr>\n",
              "      <td>5</td>\n",
              "      <td>0.528377</td>\n",
              "      <td>2.311562</td>\n",
              "      <td>0.517712</td>\n",
              "      <td>00:09</td>\n",
              "    </tr>\n",
              "    <tr>\n",
              "      <td>6</td>\n",
              "      <td>0.458838</td>\n",
              "      <td>2.392732</td>\n",
              "      <td>0.564265</td>\n",
              "      <td>00:10</td>\n",
              "    </tr>\n",
              "    <tr>\n",
              "      <td>7</td>\n",
              "      <td>0.394376</td>\n",
              "      <td>2.256725</td>\n",
              "      <td>0.588307</td>\n",
              "      <td>00:09</td>\n",
              "    </tr>\n",
              "    <tr>\n",
              "      <td>8</td>\n",
              "      <td>0.400234</td>\n",
              "      <td>2.227837</td>\n",
              "      <td>0.560958</td>\n",
              "      <td>00:10</td>\n",
              "    </tr>\n",
              "    <tr>\n",
              "      <td>9</td>\n",
              "      <td>0.379731</td>\n",
              "      <td>2.083127</td>\n",
              "      <td>0.595113</td>\n",
              "      <td>00:10</td>\n",
              "    </tr>\n",
              "    <tr>\n",
              "      <td>10</td>\n",
              "      <td>0.337859</td>\n",
              "      <td>2.245522</td>\n",
              "      <td>0.590374</td>\n",
              "      <td>00:10</td>\n",
              "    </tr>\n",
              "    <tr>\n",
              "      <td>11</td>\n",
              "      <td>0.342018</td>\n",
              "      <td>2.188954</td>\n",
              "      <td>0.586324</td>\n",
              "      <td>00:10</td>\n",
              "    </tr>\n",
              "    <tr>\n",
              "      <td>12</td>\n",
              "      <td>0.277859</td>\n",
              "      <td>2.270489</td>\n",
              "      <td>0.598816</td>\n",
              "      <td>00:10</td>\n",
              "    </tr>\n",
              "    <tr>\n",
              "      <td>13</td>\n",
              "      <td>0.237662</td>\n",
              "      <td>2.114480</td>\n",
              "      <td>0.623210</td>\n",
              "      <td>00:10</td>\n",
              "    </tr>\n",
              "    <tr>\n",
              "      <td>14</td>\n",
              "      <td>0.226008</td>\n",
              "      <td>2.101039</td>\n",
              "      <td>0.635484</td>\n",
              "      <td>00:10</td>\n",
              "    </tr>\n",
              "  </tbody>\n",
              "</table>"
            ],
            "text/plain": [
              "<IPython.core.display.HTML object>"
            ]
          },
          "metadata": {
            "tags": []
          }
        }
      ]
    },
    {
      "cell_type": "markdown",
      "metadata": {
        "id": "_ZxmOyeW9fjD"
      },
      "source": [
        "### Multilayer RNN"
      ]
    },
    {
      "cell_type": "code",
      "metadata": {
        "id": "ZpsbcaWm8j1w"
      },
      "source": [
        "class LMModel5(Module):\r\n",
        "    def __init__(self, vocab_sz, n_hidden, n_layers):\r\n",
        "        self.i_h = nn.Embedding(vocab_sz, n_hidden)\r\n",
        "        self.rnn = nn.RNN(n_hidden, n_hidden, n_layers, batch_first=True)\r\n",
        "        self.h_o = nn.Linear(n_hidden, vocab_sz)\r\n",
        "        self.h = torch.zeros(n_layers, bs, n_hidden)\r\n",
        "    \r\n",
        "    def forward(self, x):\r\n",
        "        res, h = self.rnn(self.i_h(x), self.h)\r\n",
        "        self.h = h.detach()\r\n",
        "        return self.h_o(res)\r\n",
        "    \r\n",
        "    def reset(self): self.h.zero_()"
      ],
      "execution_count": 29,
      "outputs": []
    },
    {
      "cell_type": "code",
      "metadata": {
        "colab": {
          "base_uri": "https://localhost:8080/",
          "height": 514
        },
        "id": "IDTrw77aCTIR",
        "outputId": "a0250224-a405-41e0-8da7-7e3a205be461"
      },
      "source": [
        "learn = Learner(dls, LMModel5(len(vocab), 64, 2), \r\n",
        "                loss_func=CrossEntropyLossFlat(), \r\n",
        "                metrics=accuracy, cbs=ModelResetter)\r\n",
        "learn.fit_one_cycle(15, 3e-3)"
      ],
      "execution_count": 30,
      "outputs": [
        {
          "output_type": "display_data",
          "data": {
            "text/html": [
              "<table border=\"1\" class=\"dataframe\">\n",
              "  <thead>\n",
              "    <tr style=\"text-align: left;\">\n",
              "      <th>epoch</th>\n",
              "      <th>train_loss</th>\n",
              "      <th>valid_loss</th>\n",
              "      <th>accuracy</th>\n",
              "      <th>time</th>\n",
              "    </tr>\n",
              "  </thead>\n",
              "  <tbody>\n",
              "    <tr>\n",
              "      <td>0</td>\n",
              "      <td>1.354930</td>\n",
              "      <td>1.926992</td>\n",
              "      <td>0.425568</td>\n",
              "      <td>00:11</td>\n",
              "    </tr>\n",
              "    <tr>\n",
              "      <td>1</td>\n",
              "      <td>0.781078</td>\n",
              "      <td>2.096872</td>\n",
              "      <td>0.464115</td>\n",
              "      <td>00:11</td>\n",
              "    </tr>\n",
              "    <tr>\n",
              "      <td>2</td>\n",
              "      <td>0.503999</td>\n",
              "      <td>2.429739</td>\n",
              "      <td>0.463768</td>\n",
              "      <td>00:11</td>\n",
              "    </tr>\n",
              "    <tr>\n",
              "      <td>3</td>\n",
              "      <td>0.408820</td>\n",
              "      <td>2.927918</td>\n",
              "      <td>0.473529</td>\n",
              "      <td>00:11</td>\n",
              "    </tr>\n",
              "    <tr>\n",
              "      <td>4</td>\n",
              "      <td>0.351090</td>\n",
              "      <td>2.883964</td>\n",
              "      <td>0.531414</td>\n",
              "      <td>00:11</td>\n",
              "    </tr>\n",
              "    <tr>\n",
              "      <td>5</td>\n",
              "      <td>0.310843</td>\n",
              "      <td>2.985979</td>\n",
              "      <td>0.546067</td>\n",
              "      <td>00:11</td>\n",
              "    </tr>\n",
              "    <tr>\n",
              "      <td>6</td>\n",
              "      <td>0.263559</td>\n",
              "      <td>2.981910</td>\n",
              "      <td>0.572102</td>\n",
              "      <td>00:11</td>\n",
              "    </tr>\n",
              "    <tr>\n",
              "      <td>7</td>\n",
              "      <td>0.237775</td>\n",
              "      <td>2.987018</td>\n",
              "      <td>0.584004</td>\n",
              "      <td>00:11</td>\n",
              "    </tr>\n",
              "    <tr>\n",
              "      <td>8</td>\n",
              "      <td>0.213385</td>\n",
              "      <td>2.967636</td>\n",
              "      <td>0.605538</td>\n",
              "      <td>00:11</td>\n",
              "    </tr>\n",
              "    <tr>\n",
              "      <td>9</td>\n",
              "      <td>0.196461</td>\n",
              "      <td>3.167815</td>\n",
              "      <td>0.595827</td>\n",
              "      <td>00:11</td>\n",
              "    </tr>\n",
              "    <tr>\n",
              "      <td>10</td>\n",
              "      <td>0.181343</td>\n",
              "      <td>3.014267</td>\n",
              "      <td>0.596318</td>\n",
              "      <td>00:11</td>\n",
              "    </tr>\n",
              "    <tr>\n",
              "      <td>11</td>\n",
              "      <td>0.168032</td>\n",
              "      <td>2.946552</td>\n",
              "      <td>0.606435</td>\n",
              "      <td>00:11</td>\n",
              "    </tr>\n",
              "    <tr>\n",
              "      <td>12</td>\n",
              "      <td>0.158725</td>\n",
              "      <td>2.916473</td>\n",
              "      <td>0.613688</td>\n",
              "      <td>00:11</td>\n",
              "    </tr>\n",
              "    <tr>\n",
              "      <td>13</td>\n",
              "      <td>0.152437</td>\n",
              "      <td>2.870722</td>\n",
              "      <td>0.617485</td>\n",
              "      <td>00:11</td>\n",
              "    </tr>\n",
              "    <tr>\n",
              "      <td>14</td>\n",
              "      <td>0.144586</td>\n",
              "      <td>2.877606</td>\n",
              "      <td>0.625178</td>\n",
              "      <td>00:11</td>\n",
              "    </tr>\n",
              "  </tbody>\n",
              "</table>"
            ],
            "text/plain": [
              "<IPython.core.display.HTML object>"
            ]
          },
          "metadata": {
            "tags": []
          }
        }
      ]
    },
    {
      "cell_type": "markdown",
      "metadata": {
        "id": "YPqxO30fFXNR"
      },
      "source": [
        "## Special types of RNN - **LSTMs**"
      ]
    },
    {
      "cell_type": "code",
      "metadata": {
        "id": "EIv57q9FDndV"
      },
      "source": [
        "class LMModel6(Module):\r\n",
        "    def __init__(self, vocab_sz, n_hidden, n_layers):\r\n",
        "        self.i_h = nn.Embedding(vocab_sz, n_hidden)\r\n",
        "        self.rnn = nn.LSTM(n_hidden, n_hidden, n_layers, batch_first=True)\r\n",
        "        self.h_o = nn.Linear(n_hidden, vocab_sz)\r\n",
        "        self.h = [torch.zeros(n_layers, bs, n_hidden) for _ in range(2)]\r\n",
        "\r\n",
        "    def forward(self, x):\r\n",
        "        res, h = self.rnn(self.i_h(x), self.h)\r\n",
        "        self.h = [h_.detach() for h_ in h]\r\n",
        "        return self.h_o(res)\r\n",
        "    \r\n",
        "    def reset(self): \r\n",
        "        for h in self.h: h.zero_()"
      ],
      "execution_count": 35,
      "outputs": []
    },
    {
      "cell_type": "code",
      "metadata": {
        "colab": {
          "base_uri": "https://localhost:8080/",
          "height": 514
        },
        "id": "iSglH18uGksg",
        "outputId": "6f86f995-5c10-496e-8be0-ad35e2d70383"
      },
      "source": [
        "learn = Learner(dls, LMModel6(len(vocab), 64, 2), \r\n",
        "                loss_func=CrossEntropyLossFlat(),\r\n",
        "                metrics=accuracy, cbs=ModelResetter)\r\n",
        "learn.fit_one_cycle(15, 1e-2)"
      ],
      "execution_count": 36,
      "outputs": [
        {
          "output_type": "display_data",
          "data": {
            "text/html": [
              "<table border=\"1\" class=\"dataframe\">\n",
              "  <thead>\n",
              "    <tr style=\"text-align: left;\">\n",
              "      <th>epoch</th>\n",
              "      <th>train_loss</th>\n",
              "      <th>valid_loss</th>\n",
              "      <th>accuracy</th>\n",
              "      <th>time</th>\n",
              "    </tr>\n",
              "  </thead>\n",
              "  <tbody>\n",
              "    <tr>\n",
              "      <td>0</td>\n",
              "      <td>0.965442</td>\n",
              "      <td>2.332200</td>\n",
              "      <td>0.398522</td>\n",
              "      <td>00:21</td>\n",
              "    </tr>\n",
              "    <tr>\n",
              "      <td>1</td>\n",
              "      <td>0.112696</td>\n",
              "      <td>2.195316</td>\n",
              "      <td>0.616102</td>\n",
              "      <td>00:21</td>\n",
              "    </tr>\n",
              "    <tr>\n",
              "      <td>2</td>\n",
              "      <td>0.051219</td>\n",
              "      <td>1.814923</td>\n",
              "      <td>0.694048</td>\n",
              "      <td>00:21</td>\n",
              "    </tr>\n",
              "    <tr>\n",
              "      <td>3</td>\n",
              "      <td>0.039303</td>\n",
              "      <td>2.283034</td>\n",
              "      <td>0.674443</td>\n",
              "      <td>00:20</td>\n",
              "    </tr>\n",
              "    <tr>\n",
              "      <td>4</td>\n",
              "      <td>0.034494</td>\n",
              "      <td>2.378582</td>\n",
              "      <td>0.639366</td>\n",
              "      <td>00:21</td>\n",
              "    </tr>\n",
              "    <tr>\n",
              "      <td>5</td>\n",
              "      <td>0.028826</td>\n",
              "      <td>1.779936</td>\n",
              "      <td>0.687089</td>\n",
              "      <td>00:21</td>\n",
              "    </tr>\n",
              "    <tr>\n",
              "      <td>6</td>\n",
              "      <td>0.024950</td>\n",
              "      <td>1.600827</td>\n",
              "      <td>0.714313</td>\n",
              "      <td>00:21</td>\n",
              "    </tr>\n",
              "    <tr>\n",
              "      <td>7</td>\n",
              "      <td>0.022526</td>\n",
              "      <td>1.742368</td>\n",
              "      <td>0.732144</td>\n",
              "      <td>00:21</td>\n",
              "    </tr>\n",
              "    <tr>\n",
              "      <td>8</td>\n",
              "      <td>0.020706</td>\n",
              "      <td>1.381811</td>\n",
              "      <td>0.790332</td>\n",
              "      <td>00:21</td>\n",
              "    </tr>\n",
              "    <tr>\n",
              "      <td>9</td>\n",
              "      <td>0.018371</td>\n",
              "      <td>1.342356</td>\n",
              "      <td>0.787481</td>\n",
              "      <td>00:21</td>\n",
              "    </tr>\n",
              "    <tr>\n",
              "      <td>10</td>\n",
              "      <td>0.017678</td>\n",
              "      <td>1.336683</td>\n",
              "      <td>0.773651</td>\n",
              "      <td>00:21</td>\n",
              "    </tr>\n",
              "    <tr>\n",
              "      <td>11</td>\n",
              "      <td>0.015937</td>\n",
              "      <td>0.974097</td>\n",
              "      <td>0.817532</td>\n",
              "      <td>00:21</td>\n",
              "    </tr>\n",
              "    <tr>\n",
              "      <td>12</td>\n",
              "      <td>0.015898</td>\n",
              "      <td>0.998968</td>\n",
              "      <td>0.815093</td>\n",
              "      <td>00:21</td>\n",
              "    </tr>\n",
              "    <tr>\n",
              "      <td>13</td>\n",
              "      <td>0.014282</td>\n",
              "      <td>1.049764</td>\n",
              "      <td>0.805481</td>\n",
              "      <td>00:20</td>\n",
              "    </tr>\n",
              "    <tr>\n",
              "      <td>14</td>\n",
              "      <td>0.013555</td>\n",
              "      <td>1.105603</td>\n",
              "      <td>0.798476</td>\n",
              "      <td>00:21</td>\n",
              "    </tr>\n",
              "  </tbody>\n",
              "</table>"
            ],
            "text/plain": [
              "<IPython.core.display.HTML object>"
            ]
          },
          "metadata": {
            "tags": []
          }
        }
      ]
    },
    {
      "cell_type": "markdown",
      "metadata": {
        "id": "rrBTb7K7HgWI"
      },
      "source": [
        "### Regularizing LSTMs"
      ]
    },
    {
      "cell_type": "markdown",
      "metadata": {
        "id": "yjnbzl5gOCM4"
      },
      "source": [
        "We use 4 types of regularization:\r\n",
        "1. Dropout\r\n",
        "2. Weight Tying\r\n",
        "3. Activation Regularization and Temporal Activation Regularization (*AR* and *TAR*)\r\n",
        "4. Weigth decay"
      ]
    },
    {
      "cell_type": "code",
      "metadata": {
        "id": "_dyuy5TNG57x"
      },
      "source": [
        "class LMModel7(Module):\r\n",
        "    def __init__(self, vocab_sz, n_hidden, n_layers, p):\r\n",
        "        self.i_h = nn.Embedding(vocab_sz, n_hidden)\r\n",
        "        self.rnn = nn.LSTM(n_hidden, n_hidden, n_layers, batch_first=True)\r\n",
        "        self.drop = nn.Dropout(p)\r\n",
        "        self.h_o = nn.Linear(n_hidden, vocab_sz)\r\n",
        "        self.h_o.weight = self.i_h.weight\r\n",
        "        self.h = [torch.zeros(n_layers, bs, n_hidden) for _ in range(2)]\r\n",
        "    \r\n",
        "    def forward(self, x):\r\n",
        "        raw, h = self.rnn(self.i_h(x), self.h)\r\n",
        "        out = self.drop(raw)\r\n",
        "        self.h = [h_.detach() for h_ in h]\r\n",
        "        return self.h_o(out), raw, out\r\n",
        "    \r\n",
        "    def reset(self): \r\n",
        "        for h in self.h: h.zero_()"
      ],
      "execution_count": 39,
      "outputs": []
    },
    {
      "cell_type": "code",
      "metadata": {
        "id": "mqbE7mRLKcWy"
      },
      "source": [
        "# learn = Learner(dls, LMModel7(len(vocab), 64, 2, 0.5), \r\n",
        "#                 loss_func=CrossEntropyLossFlat(), metrics=accuracy, \r\n",
        "#                 cbs=[ModelResetter, RNNRegularizer(alpha=2, beta=1)])"
      ],
      "execution_count": 45,
      "outputs": []
    },
    {
      "cell_type": "code",
      "metadata": {
        "id": "-NYDqz6gLRr0"
      },
      "source": [
        "learn = TextLearner(dls, LMModel7(len(vocab), 64, 2, 0.5),\r\n",
        "                    loss_func=CrossEntropyLossFlat(), metrics=accuracy)"
      ],
      "execution_count": 48,
      "outputs": []
    },
    {
      "cell_type": "code",
      "metadata": {
        "colab": {
          "base_uri": "https://localhost:8080/",
          "height": 514
        },
        "id": "z4SwgCcmLlhq",
        "outputId": "1e4809fa-b5ef-4d27-e8a8-1e31f049dde9"
      },
      "source": [
        "learn.fit_one_cycle(15, 1e-2, wd=0.1)"
      ],
      "execution_count": 49,
      "outputs": [
        {
          "output_type": "display_data",
          "data": {
            "text/html": [
              "<table border=\"1\" class=\"dataframe\">\n",
              "  <thead>\n",
              "    <tr style=\"text-align: left;\">\n",
              "      <th>epoch</th>\n",
              "      <th>train_loss</th>\n",
              "      <th>valid_loss</th>\n",
              "      <th>accuracy</th>\n",
              "      <th>time</th>\n",
              "    </tr>\n",
              "  </thead>\n",
              "  <tbody>\n",
              "    <tr>\n",
              "      <td>0</td>\n",
              "      <td>0.591436</td>\n",
              "      <td>1.350341</td>\n",
              "      <td>0.646241</td>\n",
              "      <td>00:21</td>\n",
              "    </tr>\n",
              "    <tr>\n",
              "      <td>1</td>\n",
              "      <td>0.188662</td>\n",
              "      <td>1.395507</td>\n",
              "      <td>0.701221</td>\n",
              "      <td>00:21</td>\n",
              "    </tr>\n",
              "    <tr>\n",
              "      <td>2</td>\n",
              "      <td>0.092170</td>\n",
              "      <td>1.679307</td>\n",
              "      <td>0.722022</td>\n",
              "      <td>00:21</td>\n",
              "    </tr>\n",
              "    <tr>\n",
              "      <td>3</td>\n",
              "      <td>0.063405</td>\n",
              "      <td>1.429932</td>\n",
              "      <td>0.747640</td>\n",
              "      <td>00:21</td>\n",
              "    </tr>\n",
              "    <tr>\n",
              "      <td>4</td>\n",
              "      <td>0.058303</td>\n",
              "      <td>1.265193</td>\n",
              "      <td>0.813541</td>\n",
              "      <td>00:21</td>\n",
              "    </tr>\n",
              "    <tr>\n",
              "      <td>5</td>\n",
              "      <td>0.049580</td>\n",
              "      <td>1.591477</td>\n",
              "      <td>0.781904</td>\n",
              "      <td>00:21</td>\n",
              "    </tr>\n",
              "    <tr>\n",
              "      <td>6</td>\n",
              "      <td>0.045117</td>\n",
              "      <td>1.614353</td>\n",
              "      <td>0.711954</td>\n",
              "      <td>00:21</td>\n",
              "    </tr>\n",
              "    <tr>\n",
              "      <td>7</td>\n",
              "      <td>0.039381</td>\n",
              "      <td>1.533823</td>\n",
              "      <td>0.830539</td>\n",
              "      <td>00:21</td>\n",
              "    </tr>\n",
              "    <tr>\n",
              "      <td>8</td>\n",
              "      <td>0.036258</td>\n",
              "      <td>1.314088</td>\n",
              "      <td>0.820550</td>\n",
              "      <td>00:21</td>\n",
              "    </tr>\n",
              "    <tr>\n",
              "      <td>9</td>\n",
              "      <td>0.035093</td>\n",
              "      <td>1.632174</td>\n",
              "      <td>0.802050</td>\n",
              "      <td>00:21</td>\n",
              "    </tr>\n",
              "    <tr>\n",
              "      <td>10</td>\n",
              "      <td>0.033632</td>\n",
              "      <td>1.445663</td>\n",
              "      <td>0.802407</td>\n",
              "      <td>00:21</td>\n",
              "    </tr>\n",
              "    <tr>\n",
              "      <td>11</td>\n",
              "      <td>0.032144</td>\n",
              "      <td>1.251690</td>\n",
              "      <td>0.832106</td>\n",
              "      <td>00:21</td>\n",
              "    </tr>\n",
              "    <tr>\n",
              "      <td>12</td>\n",
              "      <td>0.030031</td>\n",
              "      <td>1.255621</td>\n",
              "      <td>0.825508</td>\n",
              "      <td>00:21</td>\n",
              "    </tr>\n",
              "    <tr>\n",
              "      <td>13</td>\n",
              "      <td>0.029014</td>\n",
              "      <td>1.202562</td>\n",
              "      <td>0.817928</td>\n",
              "      <td>00:21</td>\n",
              "    </tr>\n",
              "    <tr>\n",
              "      <td>14</td>\n",
              "      <td>0.028101</td>\n",
              "      <td>1.044565</td>\n",
              "      <td>0.823024</td>\n",
              "      <td>00:21</td>\n",
              "    </tr>\n",
              "  </tbody>\n",
              "</table>"
            ],
            "text/plain": [
              "<IPython.core.display.HTML object>"
            ]
          },
          "metadata": {
            "tags": []
          }
        }
      ]
    }
  ]
}