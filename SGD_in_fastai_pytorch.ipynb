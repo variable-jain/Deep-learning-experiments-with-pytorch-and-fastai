{
  "nbformat": 4,
  "nbformat_minor": 0,
  "metadata": {
    "colab": {
      "name": "SGD in fastai-pytorch.ipynb",
      "provenance": [],
      "collapsed_sections": [
        "gfSG0JoQ4_Pu",
        "jmApOaC26W4Q",
        "og0qnNGGFWbV"
      ],
      "authorship_tag": "ABX9TyMfHwfjvWI7BS2Zu4Z7sV1f",
      "include_colab_link": true
    },
    "kernelspec": {
      "name": "python3",
      "display_name": "Python 3"
    },
    "accelerator": "GPU"
  },
  "cells": [
    {
      "cell_type": "markdown",
      "metadata": {
        "id": "view-in-github",
        "colab_type": "text"
      },
      "source": [
        "<a href=\"https://colab.research.google.com/github/variable-jain/Deep-learning-experiments-with-pytorch-and-fastai/blob/main/SGD_in_fastai_pytorch.ipynb\" target=\"_parent\"><img src=\"https://colab.research.google.com/assets/colab-badge.svg\" alt=\"Open In Colab\"/></a>"
      ]
    },
    {
      "cell_type": "code",
      "metadata": {
        "colab": {
          "base_uri": "https://localhost:8080/"
        },
        "id": "Y-Zmnc7h2N6P",
        "outputId": "e7eb30e9-9112-4e2c-e368-5704eb3e7b71"
      },
      "source": [
        "from google.colab import drive\r\n",
        "drive.mount('/content/drive')"
      ],
      "execution_count": 1,
      "outputs": [
        {
          "output_type": "stream",
          "text": [
            "Mounted at /content/drive\n"
          ],
          "name": "stdout"
        }
      ]
    },
    {
      "cell_type": "markdown",
      "metadata": {
        "id": "OhNdt3y94CRH"
      },
      "source": [
        "# Training a Digit Recognizer\r\n",
        "\r\n",
        "> We will attempt to train a digit classifier from absolutely and completely scratch and in the meantime using both a non-ML and ML based approach for the task. We will slowly build up to using Pytorch and then fastai for the same task"
      ]
    },
    {
      "cell_type": "code",
      "metadata": {
        "colab": {
          "base_uri": "https://localhost:8080/"
        },
        "id": "68DEBM9L2t1w",
        "outputId": "20ec195f-6eba-4255-9eea-af18f1211082"
      },
      "source": [
        "!pip install -Uqq fastbook\r\n",
        "import fastbook\r\n",
        "fastbook.setup_book()"
      ],
      "execution_count": 2,
      "outputs": [
        {
          "output_type": "stream",
          "text": [
            "\u001b[K     |████████████████████████████████| 727kB 21.1MB/s \n",
            "\u001b[K     |████████████████████████████████| 194kB 58.9MB/s \n",
            "\u001b[K     |████████████████████████████████| 51kB 8.9MB/s \n",
            "\u001b[K     |████████████████████████████████| 1.2MB 41.5MB/s \n",
            "\u001b[K     |████████████████████████████████| 61kB 10.6MB/s \n",
            "\u001b[?25hMounted at /content/gdrive\n"
          ],
          "name": "stdout"
        }
      ]
    },
    {
      "cell_type": "code",
      "metadata": {
        "id": "NXE-GdOf4rvc"
      },
      "source": [
        "from fastai.vision.all import *\r\n",
        "from fastbook import *\r\n",
        "matplotlib.rc('image', cmap='Greys')"
      ],
      "execution_count": 3,
      "outputs": []
    },
    {
      "cell_type": "markdown",
      "metadata": {
        "id": "gfSG0JoQ4_Pu"
      },
      "source": [
        "## Preparing Data\r\n",
        "\r\n",
        "> We are using a little function from fastai to grab the dataset"
      ]
    },
    {
      "cell_type": "code",
      "metadata": {
        "colab": {
          "base_uri": "https://localhost:8080/",
          "height": 17
        },
        "id": "aymv1rCm484w",
        "outputId": "b09b2224-379a-4d7c-cadf-175be8d0c900"
      },
      "source": [
        "path = untar_data(URLs.MNIST_SAMPLE)"
      ],
      "execution_count": 4,
      "outputs": [
        {
          "output_type": "display_data",
          "data": {
            "text/html": [
              ""
            ],
            "text/plain": [
              "<IPython.core.display.HTML object>"
            ]
          },
          "metadata": {
            "tags": []
          }
        }
      ]
    },
    {
      "cell_type": "code",
      "metadata": {
        "id": "hwM78XYR5Lwx"
      },
      "source": [
        "Path.BASE_PATH = path"
      ],
      "execution_count": 5,
      "outputs": []
    },
    {
      "cell_type": "code",
      "metadata": {
        "colab": {
          "base_uri": "https://localhost:8080/"
        },
        "id": "sCY82RjY5giX",
        "outputId": "c1e61c38-873a-44bc-a215-afd1116ee2a1"
      },
      "source": [
        "path.ls()"
      ],
      "execution_count": 6,
      "outputs": [
        {
          "output_type": "execute_result",
          "data": {
            "text/plain": [
              "(#3) [Path('labels.csv'),Path('train'),Path('valid')]"
            ]
          },
          "metadata": {
            "tags": []
          },
          "execution_count": 6
        }
      ]
    },
    {
      "cell_type": "code",
      "metadata": {
        "colab": {
          "base_uri": "https://localhost:8080/"
        },
        "id": "agNs99Tn5uqr",
        "outputId": "4229bd8a-cdd7-4658-e2d5-6c2aab6ed424"
      },
      "source": [
        "(path/'train').ls()"
      ],
      "execution_count": 7,
      "outputs": [
        {
          "output_type": "execute_result",
          "data": {
            "text/plain": [
              "(#2) [Path('train/3'),Path('train/7')]"
            ]
          },
          "metadata": {
            "tags": []
          },
          "execution_count": 7
        }
      ]
    },
    {
      "cell_type": "code",
      "metadata": {
        "colab": {
          "base_uri": "https://localhost:8080/"
        },
        "id": "eh1Zv8Us5y4l",
        "outputId": "34c623ea-dfe4-4020-8b74-11eadc84307d"
      },
      "source": [
        "threes = (path/'train/3').ls().sorted()\r\n",
        "sevens = (path/'train/7').ls().sorted()\r\n",
        "len(threes), len(sevens)"
      ],
      "execution_count": 8,
      "outputs": [
        {
          "output_type": "execute_result",
          "data": {
            "text/plain": [
              "(6131, 6265)"
            ]
          },
          "metadata": {
            "tags": []
          },
          "execution_count": 8
        }
      ]
    },
    {
      "cell_type": "code",
      "metadata": {
        "colab": {
          "base_uri": "https://localhost:8080/"
        },
        "id": "yMTEbEyg6CNU",
        "outputId": "fd4f2786-024b-4a1b-a866-b8f924294b80"
      },
      "source": [
        "threes"
      ],
      "execution_count": 9,
      "outputs": [
        {
          "output_type": "execute_result",
          "data": {
            "text/plain": [
              "(#6131) [Path('train/3/10.png'),Path('train/3/10000.png'),Path('train/3/10011.png'),Path('train/3/10031.png'),Path('train/3/10034.png'),Path('train/3/10042.png'),Path('train/3/10052.png'),Path('train/3/1007.png'),Path('train/3/10074.png'),Path('train/3/10091.png')...]"
            ]
          },
          "metadata": {
            "tags": []
          },
          "execution_count": 9
        }
      ]
    },
    {
      "cell_type": "markdown",
      "metadata": {
        "id": "jmApOaC26W4Q"
      },
      "source": [
        "## Our baseline Non-ML model\r\n",
        "> We are using a very naive approach - **Pixel similarity**, which works in case of 3s and 7s on account of how different they are"
      ]
    },
    {
      "cell_type": "code",
      "metadata": {
        "id": "UHvnPLZr6qN-"
      },
      "source": [
        "three_tensors = [tensor(Image.open(o)) for o in threes]\r\n",
        "seven_tensors = [tensor(Image.open(o)) for o in sevens]"
      ],
      "execution_count": 10,
      "outputs": []
    },
    {
      "cell_type": "code",
      "metadata": {
        "colab": {
          "base_uri": "https://localhost:8080/",
          "height": 102
        },
        "id": "guzxw7ky7S4G",
        "outputId": "d2b52ab5-9bda-4caa-ca10-8d1555df7fc3"
      },
      "source": [
        "show_image(three_tensors[0])"
      ],
      "execution_count": 11,
      "outputs": [
        {
          "output_type": "execute_result",
          "data": {
            "text/plain": [
              "<matplotlib.axes._subplots.AxesSubplot at 0x7f4574cde7b8>"
            ]
          },
          "metadata": {
            "tags": []
          },
          "execution_count": 11
        },
        {
          "output_type": "display_data",
          "data": {
            "image/png": "[encoded data removed]",
            "text/plain": [
              "<Figure size 72x72 with 1 Axes>"
            ]
          },
          "metadata": {
            "tags": [],
            "needs_background": "light"
          }
        }
      ]
    },
    {
      "cell_type": "code",
      "metadata": {
        "id": "A1o_YaXD7UYF"
      },
      "source": [
        "stacked_threes = torch.stack(three_tensors).float()/255.\r\n",
        "stacked_sevens = torch.stack(seven_tensors).float()/255."
      ],
      "execution_count": 12,
      "outputs": []
    },
    {
      "cell_type": "code",
      "metadata": {
        "colab": {
          "base_uri": "https://localhost:8080/"
        },
        "id": "nNeBB60n8Nzr",
        "outputId": "205c1f48-dfd9-48b3-dd7d-88123bca2fd4"
      },
      "source": [
        "stacked_sevens.shape"
      ],
      "execution_count": 13,
      "outputs": [
        {
          "output_type": "execute_result",
          "data": {
            "text/plain": [
              "torch.Size([6265, 28, 28])"
            ]
          },
          "metadata": {
            "tags": []
          },
          "execution_count": 13
        }
      ]
    },
    {
      "cell_type": "code",
      "metadata": {
        "colab": {
          "base_uri": "https://localhost:8080/"
        },
        "id": "JJ5izjEv8P-n",
        "outputId": "58c1e9e2-ea79-4c2c-f5e6-aafc7ce7fdde"
      },
      "source": [
        "stacked_threes.shape"
      ],
      "execution_count": 14,
      "outputs": [
        {
          "output_type": "execute_result",
          "data": {
            "text/plain": [
              "torch.Size([6131, 28, 28])"
            ]
          },
          "metadata": {
            "tags": []
          },
          "execution_count": 14
        }
      ]
    },
    {
      "cell_type": "markdown",
      "metadata": {
        "id": "CI-79ZcF9AB5"
      },
      "source": [
        "We create our ideal 3 and 7 from our dataset by taking the mean pixel value over all threes and sevens"
      ]
    },
    {
      "cell_type": "code",
      "metadata": {
        "colab": {
          "base_uri": "https://localhost:8080/",
          "height": 102
        },
        "id": "Smo2idun8SJ1",
        "outputId": "97095176-7403-4234-b969-e66a4bdade61"
      },
      "source": [
        "mean_3 = stacked_threes.mean(0)\r\n",
        "show_image(mean_3)"
      ],
      "execution_count": 15,
      "outputs": [
        {
          "output_type": "execute_result",
          "data": {
            "text/plain": [
              "<matplotlib.axes._subplots.AxesSubplot at 0x7f4574911be0>"
            ]
          },
          "metadata": {
            "tags": []
          },
          "execution_count": 15
        },
        {
          "output_type": "display_data",
          "data": {
            "image/png": "[encoded data removed]",
            "text/plain": [
              "<Figure size 72x72 with 1 Axes>"
            ]
          },
          "metadata": {
            "tags": [],
            "needs_background": "light"
          }
        }
      ]
    },
    {
      "cell_type": "code",
      "metadata": {
        "colab": {
          "base_uri": "https://localhost:8080/",
          "height": 102
        },
        "id": "SZnxucqK8kGl",
        "outputId": "31c5f45f-4445-4228-91a7-e7477487169a"
      },
      "source": [
        "mean_7 = stacked_sevens.mean(0)\r\n",
        "show_image(mean_7)"
      ],
      "execution_count": 16,
      "outputs": [
        {
          "output_type": "execute_result",
          "data": {
            "text/plain": [
              "<matplotlib.axes._subplots.AxesSubplot at 0x7f4574685438>"
            ]
          },
          "metadata": {
            "tags": []
          },
          "execution_count": 16
        },
        {
          "output_type": "display_data",
          "data": {
            "image/png": "[encoded data removed]",
            "text/plain": [
              "<Figure size 72x72 with 1 Axes>"
            ]
          },
          "metadata": {
            "tags": [],
            "needs_background": "light"
          }
        }
      ]
    },
    {
      "cell_type": "markdown",
      "metadata": {
        "id": "gPf1N5qo84_h"
      },
      "source": [
        "We measure distance from the ideal 3 and 7 as either L1 or L2 norm"
      ]
    },
    {
      "cell_type": "code",
      "metadata": {
        "colab": {
          "base_uri": "https://localhost:8080/"
        },
        "id": "ID4g9jPO8zwT",
        "outputId": "6d398145-b716-41be-96e5-e53a7d8de541"
      },
      "source": [
        "valid_3_tensors = torch.stack([tensor(Image.open(o)) for o in (path/'valid/3').ls().sorted()]).float()/255.\r\n",
        "valid_7_tensors = torch.stack([tensor(Image.open(o)) for o in (path/'valid/7').ls().sorted()]).float()/255.\r\n",
        "valid_3_tensors.shape, valid_7_tensors.shape"
      ],
      "execution_count": 17,
      "outputs": [
        {
          "output_type": "execute_result",
          "data": {
            "text/plain": [
              "(torch.Size([1010, 28, 28]), torch.Size([1028, 28, 28]))"
            ]
          },
          "metadata": {
            "tags": []
          },
          "execution_count": 17
        }
      ]
    },
    {
      "cell_type": "markdown",
      "metadata": {
        "id": "csc46r_g9scz"
      },
      "source": [
        "Here's our loss function"
      ]
    },
    {
      "cell_type": "code",
      "metadata": {
        "id": "0NGILT7d9nF1"
      },
      "source": [
        "def mnist_distance(x, y): return (x-y).abs().mean((-1,-2))"
      ],
      "execution_count": 18,
      "outputs": []
    },
    {
      "cell_type": "code",
      "metadata": {
        "colab": {
          "base_uri": "https://localhost:8080/"
        },
        "id": "lRhl0tGV96uf",
        "outputId": "bf3bad16-2ac8-492f-9e72-e64af033b249"
      },
      "source": [
        "mnist_distance(stacked_threes[0], mean_3)"
      ],
      "execution_count": 19,
      "outputs": [
        {
          "output_type": "execute_result",
          "data": {
            "text/plain": [
              "tensor(0.1074)"
            ]
          },
          "metadata": {
            "tags": []
          },
          "execution_count": 19
        }
      ]
    },
    {
      "cell_type": "code",
      "metadata": {
        "colab": {
          "base_uri": "https://localhost:8080/"
        },
        "id": "83RdHRAr9_Vu",
        "outputId": "1dee72df-67de-4c69-b1b3-c4b528302a94"
      },
      "source": [
        "valid_3_dist = mnist_distance(valid_3_tensors, mean_3)\r\n",
        "valid_3_dist.shape"
      ],
      "execution_count": 20,
      "outputs": [
        {
          "output_type": "execute_result",
          "data": {
            "text/plain": [
              "torch.Size([1010])"
            ]
          },
          "metadata": {
            "tags": []
          },
          "execution_count": 20
        }
      ]
    },
    {
      "cell_type": "markdown",
      "metadata": {
        "id": "OR8oAUeI-eX6"
      },
      "source": [
        "Our classification function judges whether the image looks more like our ideal 3 or ideal 7"
      ]
    },
    {
      "cell_type": "code",
      "metadata": {
        "id": "e_YdUUJ3-beA"
      },
      "source": [
        "def is_3(im): return mnist_distance(im, mean_3) < mnist_distance(im, mean_7)"
      ],
      "execution_count": 21,
      "outputs": []
    },
    {
      "cell_type": "code",
      "metadata": {
        "colab": {
          "base_uri": "https://localhost:8080/"
        },
        "id": "1l_t9Q6B-vfX",
        "outputId": "64d62307-6e8b-4688-80ad-809d4ec7b13f"
      },
      "source": [
        "is_3(valid_3_tensors)"
      ],
      "execution_count": 22,
      "outputs": [
        {
          "output_type": "execute_result",
          "data": {
            "text/plain": [
              "tensor([ True,  True,  True,  ..., False,  True,  True])"
            ]
          },
          "metadata": {
            "tags": []
          },
          "execution_count": 22
        }
      ]
    },
    {
      "cell_type": "code",
      "metadata": {
        "colab": {
          "base_uri": "https://localhost:8080/"
        },
        "id": "qkYXhga1-zwg",
        "outputId": "238b86a7-9b37-4262-8364-b0c8cd0672e8"
      },
      "source": [
        "accuracy_3 = is_3(valid_3_tensors).float().mean()\r\n",
        "accuracy_7 = 1-is_3(valid_7_tensors).float().mean()\r\n",
        "accuracy_3, accuracy_7"
      ],
      "execution_count": 23,
      "outputs": [
        {
          "output_type": "execute_result",
          "data": {
            "text/plain": [
              "(tensor(0.9168), tensor(0.9854))"
            ]
          },
          "metadata": {
            "tags": []
          },
          "execution_count": 23
        }
      ]
    },
    {
      "cell_type": "code",
      "metadata": {
        "colab": {
          "base_uri": "https://localhost:8080/"
        },
        "id": "Y2r21xHb_Ljh",
        "outputId": "ce990615-724d-4028-9fd2-8653866e33af"
      },
      "source": [
        "mean_acc = (accuracy_3 + accuracy_7)/2.\r\n",
        "mean_acc"
      ],
      "execution_count": 24,
      "outputs": [
        {
          "output_type": "execute_result",
          "data": {
            "text/plain": [
              "tensor(0.9511)"
            ]
          },
          "metadata": {
            "tags": []
          },
          "execution_count": 24
        }
      ]
    },
    {
      "cell_type": "markdown",
      "metadata": {
        "id": "dFxU7RGd_VJq"
      },
      "source": [
        "> So we have a pretty good >95% accuracy with a naive non-ML model that uses   pretty much common sense only. Lets move on and use SGD for the problem"
      ]
    },
    {
      "cell_type": "markdown",
      "metadata": {
        "id": "ZzsshLT1Dryt"
      },
      "source": [
        "## SGD model for MNIST"
      ]
    },
    {
      "cell_type": "markdown",
      "metadata": {
        "id": "og0qnNGGFWbV"
      },
      "source": [
        "### Dataset preparation"
      ]
    },
    {
      "cell_type": "code",
      "metadata": {
        "id": "90RXHD5c_SCU"
      },
      "source": [
        "train_x = torch.cat([stacked_threes, stacked_sevens]).view(-1,28*28)"
      ],
      "execution_count": 25,
      "outputs": []
    },
    {
      "cell_type": "code",
      "metadata": {
        "colab": {
          "base_uri": "https://localhost:8080/"
        },
        "id": "U1gY8gESEEXJ",
        "outputId": "de091a30-a336-4fd6-f30d-e5dad8fb2cbd"
      },
      "source": [
        "train_x.shape"
      ],
      "execution_count": 26,
      "outputs": [
        {
          "output_type": "execute_result",
          "data": {
            "text/plain": [
              "torch.Size([12396, 784])"
            ]
          },
          "metadata": {
            "tags": []
          },
          "execution_count": 26
        }
      ]
    },
    {
      "cell_type": "code",
      "metadata": {
        "colab": {
          "base_uri": "https://localhost:8080/"
        },
        "id": "aqiJlWbHEGvu",
        "outputId": "3c8e5b8e-52ff-496a-c43c-47ec87d1c91b"
      },
      "source": [
        "train_y = tensor([1]*len(threes) + [0]*len(sevens)).unsqueeze(1)\r\n",
        "train_y.shape"
      ],
      "execution_count": 27,
      "outputs": [
        {
          "output_type": "execute_result",
          "data": {
            "text/plain": [
              "torch.Size([12396, 1])"
            ]
          },
          "metadata": {
            "tags": []
          },
          "execution_count": 27
        }
      ]
    },
    {
      "cell_type": "code",
      "metadata": {
        "colab": {
          "base_uri": "https://localhost:8080/"
        },
        "id": "M56-6LznEY0e",
        "outputId": "1fd14950-fd81-44ba-f910-8bfd6228a5c4"
      },
      "source": [
        "dset = list(zip(train_x, train_y))\r\n",
        "x,y = dset[0]\r\n",
        "x.shape, y.shape"
      ],
      "execution_count": 28,
      "outputs": [
        {
          "output_type": "execute_result",
          "data": {
            "text/plain": [
              "(torch.Size([784]), torch.Size([1]))"
            ]
          },
          "metadata": {
            "tags": []
          },
          "execution_count": 28
        }
      ]
    },
    {
      "cell_type": "code",
      "metadata": {
        "id": "BHwQem7jE0m8"
      },
      "source": [
        "valid_x = torch.cat([valid_3_tensors, valid_7_tensors]).view(-1,28*28)\r\n",
        "valid_y = tensor([1]*len(valid_3_tensors) + [0]*len(valid_7_tensors)).unsqueeze(1)\r\n",
        "valid_dset = list(zip(valid_x, valid_y))"
      ],
      "execution_count": 29,
      "outputs": []
    },
    {
      "cell_type": "markdown",
      "metadata": {
        "id": "id6OcSiKFcnb"
      },
      "source": [
        "### 7 step process of creating an SGD model"
      ]
    },
    {
      "cell_type": "markdown",
      "metadata": {
        "id": "PBJzlq0XFknP"
      },
      "source": [
        "***Step 1: Initialize parameters***"
      ]
    },
    {
      "cell_type": "code",
      "metadata": {
        "id": "5vEswuOtFJOV"
      },
      "source": [
        "def init_params(size, std=1.0): return (torch.randn(size)*std).requires_grad_()"
      ],
      "execution_count": 30,
      "outputs": []
    },
    {
      "cell_type": "code",
      "metadata": {
        "id": "QVb3JqwBND5v"
      },
      "source": [
        "weights = init_params((28*28,1))"
      ],
      "execution_count": 31,
      "outputs": []
    },
    {
      "cell_type": "code",
      "metadata": {
        "id": "wBVgSc4GNI1R"
      },
      "source": [
        "bias = init_params(1)"
      ],
      "execution_count": 32,
      "outputs": []
    },
    {
      "cell_type": "markdown",
      "metadata": {
        "id": "EERwNf3MNSjX"
      },
      "source": [
        "***Step 2: Calculate predictions***"
      ]
    },
    {
      "cell_type": "code",
      "metadata": {
        "id": "YKWsdZKhNLON"
      },
      "source": [
        "def linear1(xb): return xb@weights + bias"
      ],
      "execution_count": 33,
      "outputs": []
    },
    {
      "cell_type": "code",
      "metadata": {
        "colab": {
          "base_uri": "https://localhost:8080/"
        },
        "id": "JM3dhdJHNkER",
        "outputId": "3adcdb0c-7d16-491e-e04e-a2f3190334a8"
      },
      "source": [
        "preds = linear1(train_x)\r\n",
        "preds"
      ],
      "execution_count": 34,
      "outputs": [
        {
          "output_type": "execute_result",
          "data": {
            "text/plain": [
              "tensor([[ -6.2330],\n",
              "        [-10.6388],\n",
              "        [-20.8865],\n",
              "        ...,\n",
              "        [-15.9176],\n",
              "        [ -1.6866],\n",
              "        [-11.3568]], grad_fn=<AddBackward0>)"
            ]
          },
          "metadata": {
            "tags": []
          },
          "execution_count": 34
        }
      ]
    },
    {
      "cell_type": "code",
      "metadata": {
        "colab": {
          "base_uri": "https://localhost:8080/"
        },
        "id": "7w7oYOz0NnVQ",
        "outputId": "51d9108f-751d-4d4f-a023-1fe8bdfe49c8"
      },
      "source": [
        "corrects = (preds>0.0).float()==train_y\r\n",
        "corrects"
      ],
      "execution_count": 35,
      "outputs": [
        {
          "output_type": "execute_result",
          "data": {
            "text/plain": [
              "tensor([[False],\n",
              "        [False],\n",
              "        [False],\n",
              "        ...,\n",
              "        [ True],\n",
              "        [ True],\n",
              "        [ True]])"
            ]
          },
          "metadata": {
            "tags": []
          },
          "execution_count": 35
        }
      ]
    },
    {
      "cell_type": "code",
      "metadata": {
        "colab": {
          "base_uri": "https://localhost:8080/"
        },
        "id": "S8BC-OfON06C",
        "outputId": "e984babf-ede2-454e-ce34-77bc0b14c88e"
      },
      "source": [
        "corrects.float().mean().item()"
      ],
      "execution_count": 37,
      "outputs": [
        {
          "output_type": "execute_result",
          "data": {
            "text/plain": [
              "0.5379961133003235"
            ]
          },
          "metadata": {
            "tags": []
          },
          "execution_count": 37
        }
      ]
    },
    {
      "cell_type": "markdown",
      "metadata": {
        "id": "77JiWthiODj1"
      },
      "source": [
        "***Step 3: Calculate loss***"
      ]
    },
    {
      "cell_type": "code",
      "metadata": {
        "id": "2E9pTbC0N_oz"
      },
      "source": [
        "def mnist_loss(preds, targs): \r\n",
        "    preds = preds.sigmoid()\r\n",
        "    return torch.where(targs==1, 1-preds, preds).mean()"
      ],
      "execution_count": 41,
      "outputs": []
    },
    {
      "cell_type": "code",
      "metadata": {
        "colab": {
          "base_uri": "https://localhost:8080/"
        },
        "id": "8lLa2D4COTjv",
        "outputId": "2ec55356-64ba-4f25-b31c-550a92b854e4"
      },
      "source": [
        "mnist_loss(preds, train_y)"
      ],
      "execution_count": 42,
      "outputs": [
        {
          "output_type": "execute_result",
          "data": {
            "text/plain": [
              "tensor(0.4624, grad_fn=<MeanBackward0>)"
            ]
          },
          "metadata": {
            "tags": []
          },
          "execution_count": 42
        }
      ]
    },
    {
      "cell_type": "markdown",
      "metadata": {
        "id": "_8VSFIiDOtCu"
      },
      "source": [
        "***Step 4: Calculate gradients***"
      ]
    },
    {
      "cell_type": "code",
      "metadata": {
        "id": "i0XPUfSJOYiW"
      },
      "source": [
        "def calc_grad(xb, yb, model):\r\n",
        "    preds = model(xb)\r\n",
        "    loss = mnist_loss(preds, yb)\r\n",
        "    loss.backward()"
      ],
      "execution_count": 43,
      "outputs": []
    },
    {
      "cell_type": "markdown",
      "metadata": {
        "id": "00MTaBAMPM1g"
      },
      "source": [
        "***Step 5: Step the weights***"
      ]
    },
    {
      "cell_type": "code",
      "metadata": {
        "id": "071yV4ifPHG8"
      },
      "source": [
        "def train_epoch(model, lr, params):\r\n",
        "    for xb, yb in dl:\r\n",
        "        calc_grad(xb, yb, model)\r\n",
        "        for p in params:\r\n",
        "            p.data -= p.grad*lr\r\n",
        "            p.grad.zero_()"
      ],
      "execution_count": 44,
      "outputs": []
    },
    {
      "cell_type": "markdown",
      "metadata": {
        "id": "6e8t33zqPoCj"
      },
      "source": [
        "***Step 6: Repeat the process***"
      ]
    },
    {
      "cell_type": "code",
      "metadata": {
        "id": "i3t8-ZsZPzkw"
      },
      "source": [
        "dl = DataLoader(dset, batch_size=256)\r\n",
        "valid_dl = DataLoader(valid_dset, batch_size=256)"
      ],
      "execution_count": 45,
      "outputs": []
    },
    {
      "cell_type": "code",
      "metadata": {
        "id": "ePaa0tJRQGjK"
      },
      "source": [
        "def batch_accuracy(xb, yb):\r\n",
        "    preds = xb.sigmoid()\r\n",
        "    return ((preds>0.5)==yb).float().mean()"
      ],
      "execution_count": 55,
      "outputs": []
    },
    {
      "cell_type": "code",
      "metadata": {
        "id": "0Kuv6uSSQljo"
      },
      "source": [
        "def validation_epoch(model):\r\n",
        "    accs = [batch_accuracy(model(xb),yb) for xb,yb in valid_dl]\r\n",
        "    return round(torch.stack(accs).mean().item(),4)"
      ],
      "execution_count": 47,
      "outputs": []
    },
    {
      "cell_type": "code",
      "metadata": {
        "colab": {
          "base_uri": "https://localhost:8080/"
        },
        "id": "q-xq-DRFPl3_",
        "outputId": "7d3f4489-3489-4fd1-dee9-8ed973e4141e"
      },
      "source": [
        "weights = init_params((28*28,1))\r\n",
        "bias = init_params(1)\r\n",
        "params = weights,bias\r\n",
        "lr = 1.\r\n",
        "for i in range(20):\r\n",
        "    train_epoch(linear1, lr, params)\r\n",
        "    print(validation_epoch(linear1), end=' ')"
      ],
      "execution_count": 56,
      "outputs": [
        {
          "output_type": "stream",
          "text": [
            "0.6117 0.8256 0.9008 0.9247 0.936 0.9433 0.9492 0.9511 0.955 0.9579 0.9594 0.9614 0.9619 0.9619 0.9633 0.9643 0.9653 0.9658 0.9672 0.9687 "
          ],
          "name": "stdout"
        }
      ]
    },
    {
      "cell_type": "markdown",
      "metadata": {
        "id": "KD6G4EPNWsNY"
      },
      "source": [
        "***Step 7: Stop the process***\r\n",
        "> We decided to stop this after 20 epochs but we can go on until the accuracy doesn't get better or we start to overfit"
      ]
    },
    {
      "cell_type": "markdown",
      "metadata": {
        "id": "-DzXIw2YW7dc"
      },
      "source": [
        "### Creating a Pytorch optimizer for performing SGD"
      ]
    },
    {
      "cell_type": "code",
      "metadata": {
        "id": "k3XIJRM4RJrS"
      },
      "source": [
        "linear_model = nn.Linear(28*28,1)"
      ],
      "execution_count": 112,
      "outputs": []
    },
    {
      "cell_type": "code",
      "metadata": {
        "colab": {
          "base_uri": "https://localhost:8080/"
        },
        "id": "AHeUzqdZXM9V",
        "outputId": "023d61ec-db2f-46f9-b126-c275d915e429"
      },
      "source": [
        "w,b = linear_model.parameters()\r\n",
        "w.shape, b.shape"
      ],
      "execution_count": 113,
      "outputs": [
        {
          "output_type": "execute_result",
          "data": {
            "text/plain": [
              "(torch.Size([1, 784]), torch.Size([1]))"
            ]
          },
          "metadata": {
            "tags": []
          },
          "execution_count": 113
        }
      ]
    },
    {
      "cell_type": "code",
      "metadata": {
        "id": "3xulKNj8XXWA"
      },
      "source": [
        "class BasicOptim:\r\n",
        "    def __init__(self, params, lr): self.params, self.lr = list(params), lr\r\n",
        "        \r\n",
        "    def step(self, *args, **kwargs):\r\n",
        "        for p in self.params: p.data -= p.grad.data * self.lr\r\n",
        "    \r\n",
        "    def zero_grad(self):\r\n",
        "        for p in self.params: p.grad = None"
      ],
      "execution_count": 114,
      "outputs": []
    },
    {
      "cell_type": "code",
      "metadata": {
        "id": "CLtd_LaMX98S"
      },
      "source": [
        "opt = BasicOptim(linear_model.parameters(), lr)"
      ],
      "execution_count": 115,
      "outputs": []
    },
    {
      "cell_type": "code",
      "metadata": {
        "id": "2QGySns6YGu3"
      },
      "source": [
        "def train_epoch(model):\r\n",
        "    for xb,yb in dl:\r\n",
        "        calc_grad(xb,yb,linear_model)\r\n",
        "        opt.step()\r\n",
        "        opt.zero_grad()"
      ],
      "execution_count": 116,
      "outputs": []
    },
    {
      "cell_type": "code",
      "metadata": {
        "colab": {
          "base_uri": "https://localhost:8080/"
        },
        "id": "2pIi-AxSbl8V",
        "outputId": "65b831bf-de84-49e5-d75c-162ae2f22151"
      },
      "source": [
        "validation_epoch(linear_model)"
      ],
      "execution_count": 117,
      "outputs": [
        {
          "output_type": "execute_result",
          "data": {
            "text/plain": [
              "0.3726"
            ]
          },
          "metadata": {
            "tags": []
          },
          "execution_count": 117
        }
      ]
    },
    {
      "cell_type": "code",
      "metadata": {
        "id": "XZylvf4HYTEp"
      },
      "source": [
        "def train_model(model, epochs):\r\n",
        "    for _ in range(epochs):\r\n",
        "        train_epoch(model)\r\n",
        "        print(validation_epoch(model), end=' ')"
      ],
      "execution_count": 118,
      "outputs": []
    },
    {
      "cell_type": "code",
      "metadata": {
        "colab": {
          "base_uri": "https://localhost:8080/"
        },
        "id": "oy33TP9SYk0T",
        "outputId": "327bd772-43fe-42ef-8d43-f3264cc41836"
      },
      "source": [
        "train_model(linear_model, 20)"
      ],
      "execution_count": 119,
      "outputs": [
        {
          "output_type": "stream",
          "text": [
            "0.4932 0.7119 0.8574 0.9189 0.9355 0.9502 0.9565 0.9638 0.9653 0.9673 0.9697 0.9707 0.9746 0.9751 0.9761 0.9775 0.9775 0.9775 0.9785 0.979 "
          ],
          "name": "stdout"
        }
      ]
    },
    {
      "cell_type": "markdown",
      "metadata": {
        "id": "sqFaB1ldcXzR"
      },
      "source": [
        "### Using fastai"
      ]
    },
    {
      "cell_type": "code",
      "metadata": {
        "colab": {
          "base_uri": "https://localhost:8080/",
          "height": 359
        },
        "id": "JRlbLFslcgCV",
        "outputId": "1b11bb8e-748a-46d6-8f9d-2b092607fe42"
      },
      "source": [
        "linear_model = nn.Linear(28*28,1)\r\n",
        "opt = SGD(linear_model.parameters(), lr)\r\n",
        "dls = DataLoaders(dl, valid_dl)\r\n",
        "learn = Learner(dls, linear_model, loss_func=mnist_loss, opt_func=SGD, metrics=batch_accuracy)\r\n",
        "learn.fit(10, lr=lr)"
      ],
      "execution_count": 122,
      "outputs": [
        {
          "output_type": "display_data",
          "data": {
            "text/html": [
              "<table border=\"1\" class=\"dataframe\">\n",
              "  <thead>\n",
              "    <tr style=\"text-align: left;\">\n",
              "      <th>epoch</th>\n",
              "      <th>train_loss</th>\n",
              "      <th>valid_loss</th>\n",
              "      <th>batch_accuracy</th>\n",
              "      <th>time</th>\n",
              "    </tr>\n",
              "  </thead>\n",
              "  <tbody>\n",
              "    <tr>\n",
              "      <td>0</td>\n",
              "      <td>0.637240</td>\n",
              "      <td>0.503109</td>\n",
              "      <td>0.495584</td>\n",
              "      <td>00:00</td>\n",
              "    </tr>\n",
              "    <tr>\n",
              "      <td>1</td>\n",
              "      <td>0.427566</td>\n",
              "      <td>0.271200</td>\n",
              "      <td>0.745339</td>\n",
              "      <td>00:00</td>\n",
              "    </tr>\n",
              "    <tr>\n",
              "      <td>2</td>\n",
              "      <td>0.160958</td>\n",
              "      <td>0.155670</td>\n",
              "      <td>0.861629</td>\n",
              "      <td>00:00</td>\n",
              "    </tr>\n",
              "    <tr>\n",
              "      <td>3</td>\n",
              "      <td>0.072476</td>\n",
              "      <td>0.097234</td>\n",
              "      <td>0.919038</td>\n",
              "      <td>00:00</td>\n",
              "    </tr>\n",
              "    <tr>\n",
              "      <td>4</td>\n",
              "      <td>0.039770</td>\n",
              "      <td>0.073034</td>\n",
              "      <td>0.935231</td>\n",
              "      <td>00:00</td>\n",
              "    </tr>\n",
              "    <tr>\n",
              "      <td>5</td>\n",
              "      <td>0.026934</td>\n",
              "      <td>0.059448</td>\n",
              "      <td>0.950932</td>\n",
              "      <td>00:00</td>\n",
              "    </tr>\n",
              "    <tr>\n",
              "      <td>6</td>\n",
              "      <td>0.021619</td>\n",
              "      <td>0.050821</td>\n",
              "      <td>0.957802</td>\n",
              "      <td>00:00</td>\n",
              "    </tr>\n",
              "    <tr>\n",
              "      <td>7</td>\n",
              "      <td>0.019217</td>\n",
              "      <td>0.044994</td>\n",
              "      <td>0.964181</td>\n",
              "      <td>00:00</td>\n",
              "    </tr>\n",
              "    <tr>\n",
              "      <td>8</td>\n",
              "      <td>0.017969</td>\n",
              "      <td>0.040848</td>\n",
              "      <td>0.966143</td>\n",
              "      <td>00:00</td>\n",
              "    </tr>\n",
              "    <tr>\n",
              "      <td>9</td>\n",
              "      <td>0.017200</td>\n",
              "      <td>0.037761</td>\n",
              "      <td>0.968106</td>\n",
              "      <td>00:00</td>\n",
              "    </tr>\n",
              "  </tbody>\n",
              "</table>"
            ],
            "text/plain": [
              "<IPython.core.display.HTML object>"
            ]
          },
          "metadata": {
            "tags": []
          }
        }
      ]
    },
    {
      "cell_type": "markdown",
      "metadata": {
        "id": "dB8yDggFdYfv"
      },
      "source": [
        "> We can also add a non-linearity and an second layer to make our model more deep"
      ]
    },
    {
      "cell_type": "code",
      "metadata": {
        "id": "L8rpY81qcu0z"
      },
      "source": [
        "simple_net = nn.Sequential(\r\n",
        "    nn.Linear(28*28,30),\r\n",
        "    nn.ReLU(),\r\n",
        "    nn.Linear(30,1)\r\n",
        ")"
      ],
      "execution_count": 125,
      "outputs": []
    },
    {
      "cell_type": "code",
      "metadata": {
        "id": "my4fFaI8duHa"
      },
      "source": [
        "learn = Learner(dls, model=simple_net, loss_func=mnist_loss, opt_func=SGD, metrics=batch_accuracy)"
      ],
      "execution_count": 126,
      "outputs": []
    },
    {
      "cell_type": "code",
      "metadata": {
        "colab": {
          "base_uri": "https://localhost:8080/",
          "height": 1000
        },
        "id": "O2K7UReFeArE",
        "outputId": "c8588969-7b16-4524-fdd4-8dbfd33844ae"
      },
      "source": [
        "learn.fit(40,0.1)"
      ],
      "execution_count": 127,
      "outputs": [
        {
          "output_type": "display_data",
          "data": {
            "text/html": [
              "<table border=\"1\" class=\"dataframe\">\n",
              "  <thead>\n",
              "    <tr style=\"text-align: left;\">\n",
              "      <th>epoch</th>\n",
              "      <th>train_loss</th>\n",
              "      <th>valid_loss</th>\n",
              "      <th>batch_accuracy</th>\n",
              "      <th>time</th>\n",
              "    </tr>\n",
              "  </thead>\n",
              "  <tbody>\n",
              "    <tr>\n",
              "      <td>0</td>\n",
              "      <td>0.297826</td>\n",
              "      <td>0.412711</td>\n",
              "      <td>0.504416</td>\n",
              "      <td>00:00</td>\n",
              "    </tr>\n",
              "    <tr>\n",
              "      <td>1</td>\n",
              "      <td>0.141659</td>\n",
              "      <td>0.220021</td>\n",
              "      <td>0.817959</td>\n",
              "      <td>00:00</td>\n",
              "    </tr>\n",
              "    <tr>\n",
              "      <td>2</td>\n",
              "      <td>0.078845</td>\n",
              "      <td>0.112063</td>\n",
              "      <td>0.919038</td>\n",
              "      <td>00:00</td>\n",
              "    </tr>\n",
              "    <tr>\n",
              "      <td>3</td>\n",
              "      <td>0.052153</td>\n",
              "      <td>0.076439</td>\n",
              "      <td>0.940628</td>\n",
              "      <td>00:00</td>\n",
              "    </tr>\n",
              "    <tr>\n",
              "      <td>4</td>\n",
              "      <td>0.039760</td>\n",
              "      <td>0.060024</td>\n",
              "      <td>0.958783</td>\n",
              "      <td>00:00</td>\n",
              "    </tr>\n",
              "    <tr>\n",
              "      <td>5</td>\n",
              "      <td>0.033399</td>\n",
              "      <td>0.050752</td>\n",
              "      <td>0.963690</td>\n",
              "      <td>00:00</td>\n",
              "    </tr>\n",
              "    <tr>\n",
              "      <td>6</td>\n",
              "      <td>0.029718</td>\n",
              "      <td>0.044880</td>\n",
              "      <td>0.965653</td>\n",
              "      <td>00:00</td>\n",
              "    </tr>\n",
              "    <tr>\n",
              "      <td>7</td>\n",
              "      <td>0.027314</td>\n",
              "      <td>0.040841</td>\n",
              "      <td>0.968597</td>\n",
              "      <td>00:00</td>\n",
              "    </tr>\n",
              "    <tr>\n",
              "      <td>8</td>\n",
              "      <td>0.025575</td>\n",
              "      <td>0.037894</td>\n",
              "      <td>0.968597</td>\n",
              "      <td>00:00</td>\n",
              "    </tr>\n",
              "    <tr>\n",
              "      <td>9</td>\n",
              "      <td>0.024225</td>\n",
              "      <td>0.035641</td>\n",
              "      <td>0.971050</td>\n",
              "      <td>00:00</td>\n",
              "    </tr>\n",
              "    <tr>\n",
              "      <td>10</td>\n",
              "      <td>0.023129</td>\n",
              "      <td>0.033854</td>\n",
              "      <td>0.972522</td>\n",
              "      <td>00:00</td>\n",
              "    </tr>\n",
              "    <tr>\n",
              "      <td>11</td>\n",
              "      <td>0.022214</td>\n",
              "      <td>0.032391</td>\n",
              "      <td>0.974485</td>\n",
              "      <td>00:00</td>\n",
              "    </tr>\n",
              "    <tr>\n",
              "      <td>12</td>\n",
              "      <td>0.021436</td>\n",
              "      <td>0.031162</td>\n",
              "      <td>0.974485</td>\n",
              "      <td>00:00</td>\n",
              "    </tr>\n",
              "    <tr>\n",
              "      <td>13</td>\n",
              "      <td>0.020763</td>\n",
              "      <td>0.030108</td>\n",
              "      <td>0.975957</td>\n",
              "      <td>00:00</td>\n",
              "    </tr>\n",
              "    <tr>\n",
              "      <td>14</td>\n",
              "      <td>0.020175</td>\n",
              "      <td>0.029187</td>\n",
              "      <td>0.975957</td>\n",
              "      <td>00:00</td>\n",
              "    </tr>\n",
              "    <tr>\n",
              "      <td>15</td>\n",
              "      <td>0.019654</td>\n",
              "      <td>0.028371</td>\n",
              "      <td>0.975957</td>\n",
              "      <td>00:00</td>\n",
              "    </tr>\n",
              "    <tr>\n",
              "      <td>16</td>\n",
              "      <td>0.019189</td>\n",
              "      <td>0.027643</td>\n",
              "      <td>0.976448</td>\n",
              "      <td>00:00</td>\n",
              "    </tr>\n",
              "    <tr>\n",
              "      <td>17</td>\n",
              "      <td>0.018770</td>\n",
              "      <td>0.026987</td>\n",
              "      <td>0.978410</td>\n",
              "      <td>00:00</td>\n",
              "    </tr>\n",
              "    <tr>\n",
              "      <td>18</td>\n",
              "      <td>0.018389</td>\n",
              "      <td>0.026394</td>\n",
              "      <td>0.978901</td>\n",
              "      <td>00:00</td>\n",
              "    </tr>\n",
              "    <tr>\n",
              "      <td>19</td>\n",
              "      <td>0.018040</td>\n",
              "      <td>0.025853</td>\n",
              "      <td>0.979882</td>\n",
              "      <td>00:00</td>\n",
              "    </tr>\n",
              "    <tr>\n",
              "      <td>20</td>\n",
              "      <td>0.017719</td>\n",
              "      <td>0.025360</td>\n",
              "      <td>0.980373</td>\n",
              "      <td>00:00</td>\n",
              "    </tr>\n",
              "    <tr>\n",
              "      <td>21</td>\n",
              "      <td>0.017422</td>\n",
              "      <td>0.024908</td>\n",
              "      <td>0.980864</td>\n",
              "      <td>00:00</td>\n",
              "    </tr>\n",
              "    <tr>\n",
              "      <td>22</td>\n",
              "      <td>0.017146</td>\n",
              "      <td>0.024492</td>\n",
              "      <td>0.980864</td>\n",
              "      <td>00:00</td>\n",
              "    </tr>\n",
              "    <tr>\n",
              "      <td>23</td>\n",
              "      <td>0.016888</td>\n",
              "      <td>0.024109</td>\n",
              "      <td>0.980864</td>\n",
              "      <td>00:00</td>\n",
              "    </tr>\n",
              "    <tr>\n",
              "      <td>24</td>\n",
              "      <td>0.016646</td>\n",
              "      <td>0.023755</td>\n",
              "      <td>0.981354</td>\n",
              "      <td>00:00</td>\n",
              "    </tr>\n",
              "    <tr>\n",
              "      <td>25</td>\n",
              "      <td>0.016419</td>\n",
              "      <td>0.023428</td>\n",
              "      <td>0.981354</td>\n",
              "      <td>00:00</td>\n",
              "    </tr>\n",
              "    <tr>\n",
              "      <td>26</td>\n",
              "      <td>0.016204</td>\n",
              "      <td>0.023124</td>\n",
              "      <td>0.981354</td>\n",
              "      <td>00:00</td>\n",
              "    </tr>\n",
              "    <tr>\n",
              "      <td>27</td>\n",
              "      <td>0.016001</td>\n",
              "      <td>0.022841</td>\n",
              "      <td>0.981354</td>\n",
              "      <td>00:00</td>\n",
              "    </tr>\n",
              "    <tr>\n",
              "      <td>28</td>\n",
              "      <td>0.015808</td>\n",
              "      <td>0.022578</td>\n",
              "      <td>0.981845</td>\n",
              "      <td>00:00</td>\n",
              "    </tr>\n",
              "    <tr>\n",
              "      <td>29</td>\n",
              "      <td>0.015625</td>\n",
              "      <td>0.022332</td>\n",
              "      <td>0.981845</td>\n",
              "      <td>00:00</td>\n",
              "    </tr>\n",
              "    <tr>\n",
              "      <td>30</td>\n",
              "      <td>0.015450</td>\n",
              "      <td>0.022103</td>\n",
              "      <td>0.982336</td>\n",
              "      <td>00:00</td>\n",
              "    </tr>\n",
              "    <tr>\n",
              "      <td>31</td>\n",
              "      <td>0.015284</td>\n",
              "      <td>0.021888</td>\n",
              "      <td>0.983317</td>\n",
              "      <td>00:00</td>\n",
              "    </tr>\n",
              "    <tr>\n",
              "      <td>32</td>\n",
              "      <td>0.015124</td>\n",
              "      <td>0.021687</td>\n",
              "      <td>0.983317</td>\n",
              "      <td>00:00</td>\n",
              "    </tr>\n",
              "    <tr>\n",
              "      <td>33</td>\n",
              "      <td>0.014972</td>\n",
              "      <td>0.021498</td>\n",
              "      <td>0.982826</td>\n",
              "      <td>00:00</td>\n",
              "    </tr>\n",
              "    <tr>\n",
              "      <td>34</td>\n",
              "      <td>0.014825</td>\n",
              "      <td>0.021321</td>\n",
              "      <td>0.982826</td>\n",
              "      <td>00:00</td>\n",
              "    </tr>\n",
              "    <tr>\n",
              "      <td>35</td>\n",
              "      <td>0.014685</td>\n",
              "      <td>0.021153</td>\n",
              "      <td>0.982826</td>\n",
              "      <td>00:00</td>\n",
              "    </tr>\n",
              "    <tr>\n",
              "      <td>36</td>\n",
              "      <td>0.014550</td>\n",
              "      <td>0.020994</td>\n",
              "      <td>0.983317</td>\n",
              "      <td>00:00</td>\n",
              "    </tr>\n",
              "    <tr>\n",
              "      <td>37</td>\n",
              "      <td>0.014420</td>\n",
              "      <td>0.020845</td>\n",
              "      <td>0.983317</td>\n",
              "      <td>00:00</td>\n",
              "    </tr>\n",
              "    <tr>\n",
              "      <td>38</td>\n",
              "      <td>0.014294</td>\n",
              "      <td>0.020703</td>\n",
              "      <td>0.982826</td>\n",
              "      <td>00:00</td>\n",
              "    </tr>\n",
              "    <tr>\n",
              "      <td>39</td>\n",
              "      <td>0.014172</td>\n",
              "      <td>0.020568</td>\n",
              "      <td>0.982826</td>\n",
              "      <td>00:00</td>\n",
              "    </tr>\n",
              "  </tbody>\n",
              "</table>"
            ],
            "text/plain": [
              "<IPython.core.display.HTML object>"
            ]
          },
          "metadata": {
            "tags": []
          }
        }
      ]
    },
    {
      "cell_type": "code",
      "metadata": {
        "colab": {
          "base_uri": "https://localhost:8080/",
          "height": 287
        },
        "id": "yjZYQ7xfeDEJ",
        "outputId": "7a4239c9-3a0d-4dbc-995a-0587c163fbb9"
      },
      "source": [
        "plt.plot(L(learn.recorder.values).itemgot(2))"
      ],
      "execution_count": 128,
      "outputs": [
        {
          "output_type": "execute_result",
          "data": {
            "text/plain": [
              "[<matplotlib.lines.Line2D at 0x7f456bb9e128>]"
            ]
          },
          "metadata": {
            "tags": []
          },
          "execution_count": 128
        },
        {
          "output_type": "display_data",
          "data": {
            "image/png": "[encoded data removed]",
            "text/plain": [
              "<Figure size 432x288 with 1 Axes>"
            ]
          },
          "metadata": {
            "tags": [],
            "needs_background": "light"
          }
        }
      ]
    },
    {
      "cell_type": "code",
      "metadata": {
        "colab": {
          "base_uri": "https://localhost:8080/"
        },
        "id": "IvBHL_KGeUBG",
        "outputId": "4c95f231-f1d9-4a7c-e677-b9db20a5135e"
      },
      "source": [
        "learn.recorder.values[-1][2]"
      ],
      "execution_count": 132,
      "outputs": [
        {
          "output_type": "execute_result",
          "data": {
            "text/plain": [
              "0.982826292514801"
            ]
          },
          "metadata": {
            "tags": []
          },
          "execution_count": 132
        }
      ]
    },
    {
      "cell_type": "markdown",
      "metadata": {
        "id": "6hWcLs21eiXs"
      },
      "source": [
        "## CNN for full MNIST classifier"
      ]
    },
    {
      "cell_type": "code",
      "metadata": {
        "colab": {
          "base_uri": "https://localhost:8080/",
          "height": 80
        },
        "id": "2-pL8W8DeY1H",
        "outputId": "aaf6bc72-ea8f-4e87-b072-340417500af3"
      },
      "source": [
        "dls = ImageDataLoaders.from_folder(path)\r\n",
        "learn = cnn_learner(dls, resnet18, pretrained=False, loss_func=F.cross_entropy, metrics=accuracy)\r\n",
        "learn.fit_one_cycle(1,0.1)"
      ],
      "execution_count": 133,
      "outputs": [
        {
          "output_type": "display_data",
          "data": {
            "text/html": [
              "<table border=\"1\" class=\"dataframe\">\n",
              "  <thead>\n",
              "    <tr style=\"text-align: left;\">\n",
              "      <th>epoch</th>\n",
              "      <th>train_loss</th>\n",
              "      <th>valid_loss</th>\n",
              "      <th>accuracy</th>\n",
              "      <th>time</th>\n",
              "    </tr>\n",
              "  </thead>\n",
              "  <tbody>\n",
              "    <tr>\n",
              "      <td>0</td>\n",
              "      <td>0.131742</td>\n",
              "      <td>0.018152</td>\n",
              "      <td>0.997056</td>\n",
              "      <td>00:15</td>\n",
              "    </tr>\n",
              "  </tbody>\n",
              "</table>"
            ],
            "text/plain": [
              "<IPython.core.display.HTML object>"
            ]
          },
          "metadata": {
            "tags": []
          }
        }
      ]
    }
  ]
}